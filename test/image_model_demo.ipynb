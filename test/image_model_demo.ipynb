{
 "cells": [
  {
   "cell_type": "code",
   "execution_count": 1,
   "metadata": {},
   "outputs": [
    {
     "data": {
      "text/plain": [
       "<matplotlib.pyplot._IonContext at 0x7f50604711e0>"
      ]
     },
     "execution_count": 1,
     "metadata": {},
     "output_type": "execute_result"
    }
   ],
   "source": [
    "import os\n",
    "from PIL import Image, ImageFile\n",
    "ImageFile.LOAD_TRUNCATED_IMAGES = True\n",
    "import pandas as pd\n",
    "import torch\n",
    "from torch.utils.data import Dataset, DataLoader\n",
    "import torch.nn as nn\n",
    "import torch.optim as optim\n",
    "from torch.optim import lr_scheduler\n",
    "import torch.backends.cudnn as cudnn\n",
    "import numpy as np\n",
    "import torchvision\n",
    "from torchvision import datasets, models, transforms\n",
    "import matplotlib.pyplot as plt\n",
    "import time\n",
    "import os\n",
    "import copy\n",
    "from tqdm import tqdm\n",
    "\n",
    "cudnn.benchmark = True\n",
    "plt.ion()"
   ]
  },
  {
   "cell_type": "code",
   "execution_count": null,
   "metadata": {},
   "outputs": [],
   "source": [
    "def same_seed(seed):\n",
    "    '''\n",
    "    Fixes random number generator seeds for reproducibility'''\n",
    "    torch.backends.cudnn.deterministic = True\n",
    "    torch.backends.cudnn.benchmark = False\n",
    "    np.random.seed(seed)\n",
    "    torch.manual_seed(seed)\n",
    "    if torch.cuda.is_available():\n",
    "        torch.cuda.manual_seed_all(seed)\n",
    "\n",
    "same_seed(123)"
   ]
  },
  {
   "cell_type": "code",
   "execution_count": 2,
   "metadata": {},
   "outputs": [],
   "source": [
    "HOME = os.path.expanduser('~')\n",
    "NEWS_DATA_DIR = \"Projects/Datasets/public_news_set\"\n",
    "IMAGE_DATA_DIR = \"Projects/Datasets/public_image_set\"\n",
    "TRAIN_FILE = \"multimodal_train_cleaned_sample.tsv\"\n",
    "TEST_FILE = \"multimodal_test_cleaned_sample.tsv\"\n",
    "VALID_FLIE = \"multimodal_valid_cleaned_sample.tsv\"\n",
    "DATADIRS = [TRAIN_FILE, TEST_FILE, VALID_FLIE]\n",
    "SUFFIX = '.jpg'\n",
    "\n",
    "LABEL2ID = {0: \"True\", 1: \"Satire/Parody\", 2: \"Misleading Content\", 3: \"Imposter\", 4: \"False connection\", 5: \"Manipulated Content\"}\n",
    "LABELS = [LABEL2ID[i] for i in range(6)]\n",
    "DEVICE = torch.device(\"cuda:0\" if torch.cuda.is_available() else \"cpu\")"
   ]
  },
  {
   "cell_type": "code",
   "execution_count": 3,
   "metadata": {},
   "outputs": [
    {
     "data": {
      "text/html": [
       "<div>\n",
       "<style scoped>\n",
       "    .dataframe tbody tr th:only-of-type {\n",
       "        vertical-align: middle;\n",
       "    }\n",
       "\n",
       "    .dataframe tbody tr th {\n",
       "        vertical-align: top;\n",
       "    }\n",
       "\n",
       "    .dataframe thead th {\n",
       "        text-align: right;\n",
       "    }\n",
       "</style>\n",
       "<table border=\"1\" class=\"dataframe\">\n",
       "  <thead>\n",
       "    <tr style=\"text-align: right;\">\n",
       "      <th></th>\n",
       "      <th>author</th>\n",
       "      <th>clean_title</th>\n",
       "      <th>created_utc</th>\n",
       "      <th>domain</th>\n",
       "      <th>hasImage</th>\n",
       "      <th>id</th>\n",
       "      <th>image_url</th>\n",
       "      <th>linked_submission_id</th>\n",
       "      <th>num_comments</th>\n",
       "      <th>score</th>\n",
       "      <th>subreddit</th>\n",
       "      <th>title</th>\n",
       "      <th>upvote_ratio</th>\n",
       "      <th>2_way_label</th>\n",
       "      <th>3_way_label</th>\n",
       "      <th>6_way_label</th>\n",
       "    </tr>\n",
       "  </thead>\n",
       "  <tbody>\n",
       "    <tr>\n",
       "      <th>0</th>\n",
       "      <td>jnoble50</td>\n",
       "      <td>red skull</td>\n",
       "      <td>1.553267e+09</td>\n",
       "      <td>NaN</td>\n",
       "      <td>True</td>\n",
       "      <td>ej4e1lj</td>\n",
       "      <td>https://i.imgur.com/eD7QGRM.jpg</td>\n",
       "      <td>b44rhx</td>\n",
       "      <td>NaN</td>\n",
       "      <td>58</td>\n",
       "      <td>psbattle_artwork</td>\n",
       "      <td>Red Skull</td>\n",
       "      <td>NaN</td>\n",
       "      <td>0</td>\n",
       "      <td>2</td>\n",
       "      <td>4</td>\n",
       "    </tr>\n",
       "    <tr>\n",
       "      <th>1</th>\n",
       "      <td>Gtash</td>\n",
       "      <td>cafe in bangkok with the cutest employees ever...</td>\n",
       "      <td>1.559911e+09</td>\n",
       "      <td>nynno.com</td>\n",
       "      <td>True</td>\n",
       "      <td>bxu2dd</td>\n",
       "      <td>https://external-preview.redd.it/MS7vkNibB3Yq1...</td>\n",
       "      <td>NaN</td>\n",
       "      <td>0.0</td>\n",
       "      <td>34</td>\n",
       "      <td>upliftingnews</td>\n",
       "      <td>Cafe in Bangkok With the Cutest Employees Ever...</td>\n",
       "      <td>0.78</td>\n",
       "      <td>1</td>\n",
       "      <td>0</td>\n",
       "      <td>0</td>\n",
       "    </tr>\n",
       "    <tr>\n",
       "      <th>2</th>\n",
       "      <td>RoyalPrinceSoldier</td>\n",
       "      <td>he betrayed him</td>\n",
       "      <td>1.400820e+09</td>\n",
       "      <td>NaN</td>\n",
       "      <td>True</td>\n",
       "      <td>chp14h4</td>\n",
       "      <td>http://i.imgur.com/9Q9CCDn.jpg</td>\n",
       "      <td>269qyi</td>\n",
       "      <td>NaN</td>\n",
       "      <td>8</td>\n",
       "      <td>psbattle_artwork</td>\n",
       "      <td>He betrayed him!</td>\n",
       "      <td>NaN</td>\n",
       "      <td>0</td>\n",
       "      <td>2</td>\n",
       "      <td>4</td>\n",
       "    </tr>\n",
       "    <tr>\n",
       "      <th>3</th>\n",
       "      <td>penguinseed</td>\n",
       "      <td>alderman wants to know exactly what bong shops...</td>\n",
       "      <td>1.403114e+09</td>\n",
       "      <td>dnainfo.com</td>\n",
       "      <td>True</td>\n",
       "      <td>28h8p1</td>\n",
       "      <td>https://external-preview.redd.it/lwbRUIzyGF5sU...</td>\n",
       "      <td>NaN</td>\n",
       "      <td>2.0</td>\n",
       "      <td>3</td>\n",
       "      <td>nottheonion</td>\n",
       "      <td>Alderman Wants to Know Exactly What 'Bong Shop...</td>\n",
       "      <td>0.71</td>\n",
       "      <td>1</td>\n",
       "      <td>0</td>\n",
       "      <td>0</td>\n",
       "    </tr>\n",
       "    <tr>\n",
       "      <th>4</th>\n",
       "      <td>DM90</td>\n",
       "      <td>man accused of stalking scots police officer s...</td>\n",
       "      <td>1.383750e+09</td>\n",
       "      <td>dailyrecord.co.uk</td>\n",
       "      <td>True</td>\n",
       "      <td>1q10us</td>\n",
       "      <td>https://external-preview.redd.it/_fNXvGtKcKn_U...</td>\n",
       "      <td>NaN</td>\n",
       "      <td>2.0</td>\n",
       "      <td>23</td>\n",
       "      <td>nottheonion</td>\n",
       "      <td>Man accused of stalking Scots police officer s...</td>\n",
       "      <td>0.84</td>\n",
       "      <td>1</td>\n",
       "      <td>0</td>\n",
       "      <td>0</td>\n",
       "    </tr>\n",
       "  </tbody>\n",
       "</table>\n",
       "</div>"
      ],
      "text/plain": [
       "               author                                        clean_title  \\\n",
       "0            jnoble50                                          red skull   \n",
       "1               Gtash  cafe in bangkok with the cutest employees ever...   \n",
       "2  RoyalPrinceSoldier                                    he betrayed him   \n",
       "3         penguinseed  alderman wants to know exactly what bong shops...   \n",
       "4                DM90  man accused of stalking scots police officer s...   \n",
       "\n",
       "    created_utc             domain  hasImage       id  \\\n",
       "0  1.553267e+09                NaN      True  ej4e1lj   \n",
       "1  1.559911e+09          nynno.com      True   bxu2dd   \n",
       "2  1.400820e+09                NaN      True  chp14h4   \n",
       "3  1.403114e+09        dnainfo.com      True   28h8p1   \n",
       "4  1.383750e+09  dailyrecord.co.uk      True   1q10us   \n",
       "\n",
       "                                           image_url linked_submission_id  \\\n",
       "0                    https://i.imgur.com/eD7QGRM.jpg               b44rhx   \n",
       "1  https://external-preview.redd.it/MS7vkNibB3Yq1...                  NaN   \n",
       "2                     http://i.imgur.com/9Q9CCDn.jpg               269qyi   \n",
       "3  https://external-preview.redd.it/lwbRUIzyGF5sU...                  NaN   \n",
       "4  https://external-preview.redd.it/_fNXvGtKcKn_U...                  NaN   \n",
       "\n",
       "   num_comments  score         subreddit  \\\n",
       "0           NaN     58  psbattle_artwork   \n",
       "1           0.0     34     upliftingnews   \n",
       "2           NaN      8  psbattle_artwork   \n",
       "3           2.0      3       nottheonion   \n",
       "4           2.0     23       nottheonion   \n",
       "\n",
       "                                               title  upvote_ratio  \\\n",
       "0                                          Red Skull           NaN   \n",
       "1  Cafe in Bangkok With the Cutest Employees Ever...          0.78   \n",
       "2                                   He betrayed him!           NaN   \n",
       "3  Alderman Wants to Know Exactly What 'Bong Shop...          0.71   \n",
       "4  Man accused of stalking Scots police officer s...          0.84   \n",
       "\n",
       "   2_way_label  3_way_label  6_way_label  \n",
       "0            0            2            4  \n",
       "1            1            0            0  \n",
       "2            0            2            4  \n",
       "3            1            0            0  \n",
       "4            1            0            0  "
      ]
     },
     "execution_count": 3,
     "metadata": {},
     "output_type": "execute_result"
    }
   ],
   "source": [
    "mid_train = pd.read_csv(os.path.join(HOME, NEWS_DATA_DIR, TRAIN_FILE), sep='\\t')\n",
    "mid_test = pd.read_csv(os.path.join(HOME, NEWS_DATA_DIR, TEST_FILE), sep='\\t')\n",
    "mid_valid = pd.read_csv(os.path.join(HOME, NEWS_DATA_DIR, VALID_FLIE), sep='\\t')\n",
    "mid_train.head()"
   ]
  },
  {
   "cell_type": "code",
   "execution_count": 4,
   "metadata": {},
   "outputs": [
    {
     "data": {
      "text/plain": [
       "(214, 320, 3)"
      ]
     },
     "execution_count": 4,
     "metadata": {},
     "output_type": "execute_result"
    }
   ],
   "source": [
    "im = Image.open(os.path.join(HOME, IMAGE_DATA_DIR, mid_train.id[3] + SUFFIX))\n",
    "np.asarray(im).shape"
   ]
  },
  {
   "cell_type": "code",
   "execution_count": 5,
   "metadata": {},
   "outputs": [
    {
     "data": {
      "text/plain": [
       "(29, 108, 6396, 8400, 0)"
      ]
     },
     "execution_count": 5,
     "metadata": {},
     "output_type": "execute_result"
    }
   ],
   "source": [
    "# check the error image count\n",
    "min_w = float(\"inf\") \n",
    "min_h = float(\"inf\")\n",
    "max_w = 0\n",
    "max_h = 0\n",
    "e_count = 0\n",
    "for i in range(len(mid_test)):    \n",
    "    im = Image.open(os.path.join(HOME, IMAGE_DATA_DIR, mid_test.id[i] + \".jpg\"))\n",
    "    if im.size[0] > max_h:\n",
    "        max_h = im.size[0]\n",
    "    if im.size[1] > max_w:\n",
    "        max_w = im.size[1]\n",
    "    if im.size[0] < min_h:\n",
    "        min_h = im.size[0]\n",
    "    if im.size[1] < min_w:\n",
    "        min_w = im.size[1]\n",
    "\n",
    "min_w, min_h, max_w, max_h, e_count"
   ]
  },
  {
   "cell_type": "markdown",
   "metadata": {},
   "source": [
    "## resize image to fit model need"
   ]
  },
  {
   "cell_type": "code",
   "execution_count": 6,
   "metadata": {},
   "outputs": [],
   "source": [
    "import transformers\n",
    "\n",
    "# transform the train data\n",
    "transform_train = transforms.Compose([\n",
    "    transforms.RandomResizedCrop(224),\n",
    "    transforms.RandomHorizontalFlip(),\n",
    "    transforms.ToTensor(),\n",
    "    transforms.Normalize([0.485, 0.456, 0.406], [0.229, 0.224, 0.225])\n",
    "])\n",
    "\n",
    "# transform the test and validate data\n",
    "transform_val = transforms.Compose([\n",
    "    transforms.Resize(256),\n",
    "    transforms.CenterCrop(224),\n",
    "    transforms.ToTensor(),\n",
    "    transforms.Normalize([0.485, 0.456, 0.406], [0.229, 0.224, 0.225])\n",
    "])"
   ]
  },
  {
   "cell_type": "code",
   "execution_count": 7,
   "metadata": {},
   "outputs": [],
   "source": [
    "def load_trans(filepath, train=True):\n",
    "    im = Image.open(filepath)\n",
    "    # print(np.asarray(im).shape)\n",
    "    # print(filepath)\n",
    "    if im.mode != \"RGB\":\n",
    "        im = im.convert(mode=\"RGB\")\n",
    "    im_trans = transform_train(im) if train else transform_val(im)\n",
    "    return im_trans"
   ]
  },
  {
   "cell_type": "code",
   "execution_count": 8,
   "metadata": {},
   "outputs": [],
   "source": [
    "class ImgDataset(Dataset):\n",
    "    def __init__(self, df, train=True) -> None:\n",
    "        super().__init__()\n",
    "        self.df = df\n",
    "        self.train = train\n",
    "        df.dtype = np.float64\n",
    "        self.labels = df['6_way_label'].values\n",
    "        self.ids = df['id'].values\n",
    "\n",
    "    def __getitem__(self, idx):\n",
    "        img_path = os.path.join(HOME, IMAGE_DATA_DIR, self.df.id[idx] + SUFFIX)\n",
    "        img_tensor = load_trans(img_path, self.train)\n",
    "        label = self.labels[idx]\n",
    "        return img_tensor, label\n",
    "\n",
    "    def __len__(self):\n",
    "        return len(self.labels)\n"
   ]
  },
  {
   "cell_type": "code",
   "execution_count": 9,
   "metadata": {},
   "outputs": [],
   "source": [
    "mid_train_dataset = ImgDataset(mid_train)\n",
    "train_dataloader = DataLoader(mid_train_dataset, batch_size=16)\n",
    "mid_test_dataset = ImgDataset(mid_test, train=False)\n",
    "test_dataloader = DataLoader(mid_test_dataset, batch_size=16)\n",
    "mid_valid_dataset = ImgDataset(mid_valid, train=False)\n",
    "valid_dataloader = DataLoader(mid_valid_dataset, batch_size=16)\n",
    "\n",
    "dataloaders = {'train': train_dataloader, 'val': valid_dataloader}\n",
    "dataset_sizes = {'train': len(mid_train_dataset), 'val': len(mid_valid_dataset)}"
   ]
  },
  {
   "cell_type": "code",
   "execution_count": 10,
   "metadata": {},
   "outputs": [],
   "source": [
    "im = Image.open('/home/yangu/Projects/Datasets/public_image_set/ctdk4x3.jpg')\n",
    "# im.convert(mode='RGB')"
   ]
  },
  {
   "cell_type": "code",
   "execution_count": 11,
   "metadata": {},
   "outputs": [
    {
     "data": {
      "image/png": "[encoded data removed]",
      "text/plain": [
       "<Figure size 432x288 with 1 Axes>"
      ]
     },
     "metadata": {
      "needs_background": "light"
     },
     "output_type": "display_data"
    }
   ],
   "source": [
    "def imshow(inp, title=None):\n",
    "    \"\"\"Imshow for Tensor.\"\"\"\n",
    "    inp = inp.numpy().transpose((1, 2, 0))\n",
    "    mean = np.array([0.485, 0.456, 0.406])\n",
    "    std = np.array([0.229, 0.224, 0.225])\n",
    "    inp = std * inp + mean\n",
    "    inp = np.clip(inp, 0, 1)\n",
    "    plt.imshow(inp)\n",
    "    if title is not None:\n",
    "        plt.title(title)\n",
    "    plt.pause(0.001)  # pause a bit so that plots are updated\n",
    "\n",
    "\n",
    "# Get a batch of training data\n",
    "inputs, classes = next(iter(train_dataloader))\n",
    "\n",
    "\n",
    "# Make a grid from batch\n",
    "out = torchvision.utils.make_grid(inputs)\n",
    "\n",
    "imshow(out, title=[LABEL2ID[x] for x in classes.tolist()])"
   ]
  },
  {
   "cell_type": "code",
   "execution_count": 12,
   "metadata": {},
   "outputs": [],
   "source": [
    "# fine-tune model\n",
    "# fine-tune ResNet50\n",
    "# model_ft = models.resnet50(pretrained=True)\n",
    "# num_ftrs = model_ft.fc.in_features\n",
    "# model_ft.fc = nn.Linear(num_ftrs, 6)\n",
    "\n",
    "# fine-tune VGG-16\n",
    "model_ft = models.vgg16(pretrained=True)\n",
    "model_ft.classifier[6].out_features = 6\n",
    "model_ft = model_ft.to(DEVICE)\n",
    "\n",
    "criterion = nn.CrossEntropyLoss()\n",
    "\n",
    "optimizer_ft = optim.SGD(model_ft.classifier.parameters(), lr=0.001, momentum=0.9)\n",
    "\n",
    "exp_lr_scheduler = lr_scheduler.StepLR(optimizer_ft, step_size=7, gamma=0.1)\n"
   ]
  },
  {
   "cell_type": "code",
   "execution_count": 13,
   "metadata": {},
   "outputs": [],
   "source": [
    "# train model\n",
    "def train_model(model, criterion, optimizer, scheduler, num_epochs=25):\n",
    "    since = time.time()\n",
    "\n",
    "    best_model_wts = copy.deepcopy(model.state_dict())\n",
    "    best_acc = 0.0\n",
    "\n",
    "    for epoch in range(num_epochs):\n",
    "        print(f'Epoch {epoch}/{num_epochs - 1}')\n",
    "        print('-' * 10)\n",
    "\n",
    "        # Each epoch has a training and validation phase\n",
    "        for phase in ['train', 'val']:\n",
    "            if phase == 'train':\n",
    "                model.train()  # Set model to training mode\n",
    "            else:\n",
    "                model.eval()   # Set model to evaluate mode\n",
    "\n",
    "            running_loss = 0.0\n",
    "            running_corrects = 0\n",
    "\n",
    "            # Iterate over data.\n",
    "            for inputs, labels in tqdm(dataloaders[phase], total=len(dataloaders[phase])):\n",
    "                inputs = inputs.to(DEVICE)\n",
    "                labels = labels.to(DEVICE)\n",
    "\n",
    "                # zero the parameter gradients\n",
    "                optimizer.zero_grad()\n",
    "\n",
    "                # forward\n",
    "                # track history if only in train\n",
    "                with torch.set_grad_enabled(phase == 'train'):\n",
    "                    outputs = model(inputs)\n",
    "                    _, preds = torch.max(outputs, 1)\n",
    "                    loss = criterion(outputs, labels)\n",
    "\n",
    "                    # backward + optimize only if in training phase\n",
    "                    if phase == 'train':\n",
    "                        loss.backward()\n",
    "                        optimizer.step()\n",
    "\n",
    "                # statistics\n",
    "                running_loss += loss.item() * inputs.size(0)\n",
    "                running_corrects += torch.sum(preds == labels.data)\n",
    "            if phase == 'train':\n",
    "                scheduler.step()\n",
    "\n",
    "            epoch_loss = running_loss / dataset_sizes[phase]\n",
    "            epoch_acc = running_corrects.double() / dataset_sizes[phase]\n",
    "\n",
    "            print(f'{phase} Loss: {epoch_loss:.4f} Acc: {epoch_acc:.4f}')\n",
    "\n",
    "            # deep copy the model\n",
    "            if phase == 'val' and epoch_acc > best_acc:\n",
    "                best_acc = epoch_acc\n",
    "                best_model_wts = copy.deepcopy(model.state_dict())\n",
    "\n",
    "        print()\n",
    "\n",
    "    time_elapsed = time.time() - since\n",
    "    print(f'Training complete in {time_elapsed // 60:.0f}m {time_elapsed % 60:.0f}s')\n",
    "    print(f'Best val Acc: {best_acc:4f}')\n",
    "\n",
    "    # load best model weights\n",
    "    model.load_state_dict(best_model_wts)\n",
    "    return model"
   ]
  },
  {
   "cell_type": "code",
   "execution_count": 14,
   "metadata": {},
   "outputs": [],
   "source": [
    "def visualize_model(model, num_images=6):\n",
    "    was_training = model.training\n",
    "    model.eval()\n",
    "    images_so_far = 0\n",
    "    fig = plt.figure()\n",
    "\n",
    "    with torch.no_grad():\n",
    "        for i, (inputs, labels) in enumerate(dataloaders['val']):\n",
    "            inputs = inputs.to(DEVICE)\n",
    "            labels = labels.to(DEVICE)\n",
    "\n",
    "            outputs = model(inputs)\n",
    "            _, preds = torch.max(outputs, 1)\n",
    "\n",
    "            for j in range(inputs.size()[0]):\n",
    "                images_so_far += 1\n",
    "                ax = plt.subplot(num_images//2, 2, images_so_far)\n",
    "                ax.axis('off')\n",
    "                ax.set_title(f'predicted: {LABEL2ID[preds[j]]}')\n",
    "                imshow(inputs.cpu().data[j])\n",
    "\n",
    "                if images_so_far == num_images:\n",
    "                    model.train(mode=was_training)\n",
    "                    return\n",
    "        model.train(mode=was_training)"
   ]
  },
  {
   "cell_type": "code",
   "execution_count": 15,
   "metadata": {},
   "outputs": [
    {
     "name": "stdout",
     "output_type": "stream",
     "text": [
      "Epoch 0/4\n",
      "----------\n"
     ]
    },
    {
     "name": "stderr",
     "output_type": "stream",
     "text": [
      "  1%|          | 55/6822 [00:17<27:06,  4.16it/s] /home/yangu/miniconda3/envs/th_env/lib/python3.10/site-packages/PIL/Image.py:945: UserWarning: Palette images with Transparency expressed in bytes should be converted to RGBA images\n",
      "  warnings.warn(\n",
      " 92%|█████████▏| 6268/6822 [30:14<02:28,  3.73it/s]/home/yangu/miniconda3/envs/th_env/lib/python3.10/site-packages/PIL/Image.py:2896: DecompressionBombWarning: Image size (110718270 pixels) exceeds limit of 89478485 pixels, could be decompression bomb DOS attack.\n",
      "  warnings.warn(\n",
      "100%|██████████| 6822/6822 [32:59<00:00,  3.45it/s]\n"
     ]
    },
    {
     "name": "stdout",
     "output_type": "stream",
     "text": [
      "train Loss: 1.0994 Acc: 0.6033\n"
     ]
    },
    {
     "name": "stderr",
     "output_type": "stream",
     "text": [
      "100%|██████████| 853/853 [02:45<00:00,  5.16it/s]\n"
     ]
    },
    {
     "name": "stdout",
     "output_type": "stream",
     "text": [
      "val Loss: 0.9080 Acc: 0.6668\n",
      "\n",
      "Epoch 1/4\n",
      "----------\n"
     ]
    },
    {
     "name": "stderr",
     "output_type": "stream",
     "text": [
      "100%|██████████| 6822/6822 [32:35<00:00,  3.49it/s]\n"
     ]
    },
    {
     "name": "stdout",
     "output_type": "stream",
     "text": [
      "train Loss: 0.9704 Acc: 0.6393\n"
     ]
    },
    {
     "name": "stderr",
     "output_type": "stream",
     "text": [
      "100%|██████████| 853/853 [02:38<00:00,  5.37it/s]\n"
     ]
    },
    {
     "name": "stdout",
     "output_type": "stream",
     "text": [
      "val Loss: 0.8788 Acc: 0.6790\n",
      "\n",
      "Epoch 2/4\n",
      "----------\n"
     ]
    },
    {
     "name": "stderr",
     "output_type": "stream",
     "text": [
      "100%|██████████| 6822/6822 [32:12<00:00,  3.53it/s]\n"
     ]
    },
    {
     "name": "stdout",
     "output_type": "stream",
     "text": [
      "train Loss: 0.9391 Acc: 0.6523\n"
     ]
    },
    {
     "name": "stderr",
     "output_type": "stream",
     "text": [
      "100%|██████████| 853/853 [02:38<00:00,  5.38it/s]\n"
     ]
    },
    {
     "name": "stdout",
     "output_type": "stream",
     "text": [
      "val Loss: 0.8618 Acc: 0.6859\n",
      "\n",
      "Epoch 3/4\n",
      "----------\n"
     ]
    },
    {
     "name": "stderr",
     "output_type": "stream",
     "text": [
      "100%|██████████| 6822/6822 [32:15<00:00,  3.53it/s]\n"
     ]
    },
    {
     "name": "stdout",
     "output_type": "stream",
     "text": [
      "train Loss: 0.9166 Acc: 0.6601\n"
     ]
    },
    {
     "name": "stderr",
     "output_type": "stream",
     "text": [
      "100%|██████████| 853/853 [02:38<00:00,  5.38it/s]\n"
     ]
    },
    {
     "name": "stdout",
     "output_type": "stream",
     "text": [
      "val Loss: 0.8443 Acc: 0.6911\n",
      "\n",
      "Epoch 4/4\n",
      "----------\n"
     ]
    },
    {
     "name": "stderr",
     "output_type": "stream",
     "text": [
      "100%|██████████| 6822/6822 [32:27<00:00,  3.50it/s]\n"
     ]
    },
    {
     "name": "stdout",
     "output_type": "stream",
     "text": [
      "train Loss: 0.8982 Acc: 0.6665\n"
     ]
    },
    {
     "name": "stderr",
     "output_type": "stream",
     "text": [
      "100%|██████████| 853/853 [02:38<00:00,  5.38it/s]"
     ]
    },
    {
     "name": "stdout",
     "output_type": "stream",
     "text": [
      "val Loss: 0.8358 Acc: 0.6944\n",
      "\n",
      "Training complete in 175m 50s\n",
      "Best val Acc: 0.694444\n"
     ]
    },
    {
     "name": "stderr",
     "output_type": "stream",
     "text": [
      "\n"
     ]
    }
   ],
   "source": [
    "model_ft = train_model(model_ft, criterion, optimizer_ft, exp_lr_scheduler,\n",
    "                       num_epochs=5)"
   ]
  },
  {
   "cell_type": "code",
   "execution_count": 16,
   "metadata": {},
   "outputs": [],
   "source": [
    "# TODO: save image model for VGG16 and ResNet50\n",
    "torch.save(model_ft, 'vgg16_ft.pt')"
   ]
  },
  {
   "cell_type": "code",
   "execution_count": null,
   "metadata": {},
   "outputs": [],
   "source": [
    "# test read file from zip file\n",
    "import io\n",
    "import tarfile\n",
    "\n",
    "tar = tarfile.open('/home/yangu/Downloads/public_images.tar.bz2', 'r:bz2')\n",
    "t = tar.getmember('public_image_set/chu0hgb.jpg')\n",
    "te = tar.extractfile(t).read()\n",
    "Image.open(io.BytesIO(te))"
   ]
  },
  {
   "cell_type": "markdown",
   "metadata": {},
   "source": [
    "## Vision Transformer"
   ]
  },
  {
   "cell_type": "code",
   "execution_count": 4,
   "metadata": {},
   "outputs": [],
   "source": [
    "from transformers import ViTFeatureExtractor, ViTModel, ViTForImageClassification\n",
    "from datasets import load_dataset\n",
    "from datasets import load_metric\n",
    "\n",
    "num_labels = 6\n",
    "model_ckpt = \"google/vit-base-patch16-224-in21k\""
   ]
  },
  {
   "cell_type": "code",
   "execution_count": 5,
   "metadata": {},
   "outputs": [
    {
     "name": "stderr",
     "output_type": "stream",
     "text": [
      "Some weights of the model checkpoint at google/vit-base-patch16-224-in21k were not used when initializing ViTForImageClassification: ['pooler.dense.bias', 'pooler.dense.weight']\n",
      "- This IS expected if you are initializing ViTForImageClassification from the checkpoint of a model trained on another task or with another architecture (e.g. initializing a BertForSequenceClassification model from a BertForPreTraining model).\n",
      "- This IS NOT expected if you are initializing ViTForImageClassification from the checkpoint of a model that you expect to be exactly identical (initializing a BertForSequenceClassification model from a BertForSequenceClassification model).\n",
      "Some weights of ViTForImageClassification were not initialized from the model checkpoint at google/vit-base-patch16-224-in21k and are newly initialized: ['classifier.bias', 'classifier.weight']\n",
      "You should probably TRAIN this model on a down-stream task to be able to use it for predictions and inference.\n"
     ]
    }
   ],
   "source": [
    "feature_extractor = ViTFeatureExtractor(model_ckpt)\n",
    "model = ViTForImageClassification.from_pretrained(model_ckpt, num_labels=num_labels)"
   ]
  },
  {
   "cell_type": "code",
   "execution_count": 6,
   "metadata": {},
   "outputs": [],
   "source": [
    "metric = load_metric(\"accuracy\")\n",
    "def compute_metrics(p):\n",
    "    return metric.compute(predictions=np.argmax(p.predictions, axis=1), references=p.label_ids)"
   ]
  },
  {
   "cell_type": "code",
   "execution_count": 7,
   "metadata": {},
   "outputs": [],
   "source": [
    "# Pre-process the iamge data\n",
    "feature_extractor = ViTFeatureExtractor(model_ckpt)\n",
    "\n",
    "def feature_extract(filepath):\n",
    "    im = Image.open(filepath)\n",
    "    if im.mode != \"RGB\":\n",
    "        im = im.convert(mode=\"RGB\")\n",
    "    im_trans = feature_extractor(im, return_tensors='pt')\n",
    "    return im_trans\n",
    "\n",
    "class VitImgDataset(Dataset):\n",
    "    def __init__(self, df, train=True) -> None:\n",
    "        super().__init__()\n",
    "        self.df = df\n",
    "        self.train = train\n",
    "        df.dtype = np.float64\n",
    "        self.labels = df['6_way_label'].values\n",
    "        self.ids = df['id'].values\n",
    "\n",
    "    def __getitem__(self, idx):\n",
    "        img_path = os.path.join(HOME, IMAGE_DATA_DIR, self.df.id[idx] + SUFFIX)\n",
    "        img_dict = feature_extract(img_path)\n",
    "        label = self.labels[idx]\n",
    "        img_dict['labels'] = label\n",
    "        return img_dict\n",
    "\n",
    "    def __len__(self):\n",
    "        return len(self.labels)"
   ]
  },
  {
   "cell_type": "code",
   "execution_count": 8,
   "metadata": {},
   "outputs": [],
   "source": [
    "mid_train_dataset = VitImgDataset(mid_train)\n",
    "train_dataloader = DataLoader(mid_train_dataset, batch_size=32)\n",
    "mid_test_dataset = VitImgDataset(mid_test, train=False)\n",
    "test_dataloader = DataLoader(mid_test_dataset, batch_size=32)\n",
    "mid_valid_dataset = VitImgDataset(mid_valid, train=False)\n",
    "valid_dataloader = DataLoader(mid_valid_dataset, batch_size=32)\n",
    "\n",
    "dataloaders = {'train': train_dataloader, 'val': valid_dataloader}\n",
    "dataset_sizes = {'train': len(mid_train_dataset), 'val': len(mid_valid_dataset)}"
   ]
  },
  {
   "cell_type": "code",
   "execution_count": 9,
   "metadata": {},
   "outputs": [],
   "source": [
    "from transformers import TrainingArguments\n",
    "\n",
    "batch_size = 16\n",
    "training_args = TrainingArguments(\n",
    "    output_dir=\"./vit-base-beans\",\n",
    "    evaluation_strategy=\"epoch\",\n",
    "    num_train_epochs=4,\n",
    "    fp16=True,\n",
    "    logging_steps=len(mid_train_dataset) // batch_size,\n",
    "    learning_rate=2e-4,\n",
    "    save_total_limit=2,\n",
    "    remove_unused_columns=False,\n",
    "    per_gpu_train_batch_size=batch_size,\n",
    "    per_gpu_eval_batch_size=batch_size,\n",
    "    push_to_hub=False,\n",
    "    report_to='tensorboard',\n",
    ")"
   ]
  },
  {
   "cell_type": "code",
   "execution_count": 10,
   "metadata": {},
   "outputs": [],
   "source": [
    "def collate_fn(batch):\n",
    "    return {\n",
    "        'pixel_values': torch.stack([x['pixel_values'].squeeze() for x in batch]),\n",
    "        'labels': torch.tensor([x['labels'] for x in batch])\n",
    "    }"
   ]
  },
  {
   "cell_type": "code",
   "execution_count": 11,
   "metadata": {},
   "outputs": [
    {
     "name": "stderr",
     "output_type": "stream",
     "text": [
      "Using amp half precision backend\n",
      "Using deprecated `--per_gpu_train_batch_size` argument which will be removed in a future version. Using `--per_device_train_batch_size` is preferred.\n",
      "Using deprecated `--per_gpu_train_batch_size` argument which will be removed in a future version. Using `--per_device_train_batch_size` is preferred.\n",
      "/home/yangu/miniconda3/envs/th_env/lib/python3.10/site-packages/transformers/optimization.py:306: FutureWarning: This implementation of AdamW is deprecated and will be removed in a future version. Use the PyTorch implementation torch.optim.AdamW instead, or set `no_deprecation_warning=True` to disable this warning\n",
      "  warnings.warn(\n",
      "***** Running training *****\n",
      "  Num examples = 109149\n",
      "  Num Epochs = 4\n",
      "  Instantaneous batch size per device = 8\n",
      "  Total train batch size (w. parallel, distributed & accumulation) = 16\n",
      "  Gradient Accumulation steps = 1\n",
      "  Total optimization steps = 27288\n",
      "Using deprecated `--per_gpu_train_batch_size` argument which will be removed in a future version. Using `--per_device_train_batch_size` is preferred.\n",
      "Using deprecated `--per_gpu_eval_batch_size` argument which will be removed in a future version. Using `--per_device_eval_batch_size` is preferred.\n"
     ]
    },
    {
     "data": {
      "application/vnd.jupyter.widget-view+json": {
       "model_id": "69a473064cea4f92bc16227e2a435884",
       "version_major": 2,
       "version_minor": 0
      },
      "text/plain": [
       "  0%|          | 0/27288 [00:00<?, ?it/s]"
      ]
     },
     "metadata": {},
     "output_type": "display_data"
    },
    {
     "name": "stderr",
     "output_type": "stream",
     "text": [
      "/home/yangu/miniconda3/envs/th_env/lib/python3.10/site-packages/PIL/Image.py:945: UserWarning: Palette images with Transparency expressed in bytes should be converted to RGBA images\n",
      "  warnings.warn(\n",
      "Saving model checkpoint to ./vit-base-beans/checkpoint-500\n",
      "Configuration saved in ./vit-base-beans/checkpoint-500/config.json\n",
      "Model weights saved in ./vit-base-beans/checkpoint-500/pytorch_model.bin\n",
      "Feature extractor saved in ./vit-base-beans/checkpoint-500/preprocessor_config.json\n",
      "Deleting older checkpoint [vit-base-beans/checkpoint-2500] due to args.save_total_limit\n",
      "/home/yangu/miniconda3/envs/th_env/lib/python3.10/site-packages/PIL/Image.py:945: UserWarning: Palette images with Transparency expressed in bytes should be converted to RGBA images\n",
      "  warnings.warn(\n",
      "Saving model checkpoint to ./vit-base-beans/checkpoint-1000\n",
      "Configuration saved in ./vit-base-beans/checkpoint-1000/config.json\n",
      "Model weights saved in ./vit-base-beans/checkpoint-1000/pytorch_model.bin\n",
      "Feature extractor saved in ./vit-base-beans/checkpoint-1000/preprocessor_config.json\n",
      "Deleting older checkpoint [vit-base-beans/checkpoint-3000] due to args.save_total_limit\n",
      "/home/yangu/miniconda3/envs/th_env/lib/python3.10/site-packages/PIL/Image.py:945: UserWarning: Palette images with Transparency expressed in bytes should be converted to RGBA images\n",
      "  warnings.warn(\n",
      "Saving model checkpoint to ./vit-base-beans/checkpoint-1500\n",
      "Configuration saved in ./vit-base-beans/checkpoint-1500/config.json\n",
      "Model weights saved in ./vit-base-beans/checkpoint-1500/pytorch_model.bin\n",
      "Feature extractor saved in ./vit-base-beans/checkpoint-1500/preprocessor_config.json\n",
      "Deleting older checkpoint [vit-base-beans/checkpoint-500] due to args.save_total_limit\n",
      "/home/yangu/miniconda3/envs/th_env/lib/python3.10/site-packages/PIL/Image.py:945: UserWarning: Palette images with Transparency expressed in bytes should be converted to RGBA images\n",
      "  warnings.warn(\n",
      "Saving model checkpoint to ./vit-base-beans/checkpoint-2000\n",
      "Configuration saved in ./vit-base-beans/checkpoint-2000/config.json\n",
      "Model weights saved in ./vit-base-beans/checkpoint-2000/pytorch_model.bin\n",
      "Feature extractor saved in ./vit-base-beans/checkpoint-2000/preprocessor_config.json\n",
      "Deleting older checkpoint [vit-base-beans/checkpoint-1000] due to args.save_total_limit\n",
      "Saving model checkpoint to ./vit-base-beans/checkpoint-2500\n",
      "Configuration saved in ./vit-base-beans/checkpoint-2500/config.json\n",
      "Model weights saved in ./vit-base-beans/checkpoint-2500/pytorch_model.bin\n",
      "Feature extractor saved in ./vit-base-beans/checkpoint-2500/preprocessor_config.json\n",
      "Deleting older checkpoint [vit-base-beans/checkpoint-1500] due to args.save_total_limit\n",
      "/home/yangu/miniconda3/envs/th_env/lib/python3.10/site-packages/PIL/Image.py:945: UserWarning: Palette images with Transparency expressed in bytes should be converted to RGBA images\n",
      "  warnings.warn(\n",
      "Saving model checkpoint to ./vit-base-beans/checkpoint-3000\n",
      "Configuration saved in ./vit-base-beans/checkpoint-3000/config.json\n",
      "Model weights saved in ./vit-base-beans/checkpoint-3000/pytorch_model.bin\n",
      "Feature extractor saved in ./vit-base-beans/checkpoint-3000/preprocessor_config.json\n",
      "Deleting older checkpoint [vit-base-beans/checkpoint-2000] due to args.save_total_limit\n",
      "/home/yangu/miniconda3/envs/th_env/lib/python3.10/site-packages/PIL/Image.py:945: UserWarning: Palette images with Transparency expressed in bytes should be converted to RGBA images\n",
      "  warnings.warn(\n",
      "Saving model checkpoint to ./vit-base-beans/checkpoint-3500\n",
      "Configuration saved in ./vit-base-beans/checkpoint-3500/config.json\n",
      "Model weights saved in ./vit-base-beans/checkpoint-3500/pytorch_model.bin\n",
      "Feature extractor saved in ./vit-base-beans/checkpoint-3500/preprocessor_config.json\n",
      "Deleting older checkpoint [vit-base-beans/checkpoint-2500] due to args.save_total_limit\n",
      "Saving model checkpoint to ./vit-base-beans/checkpoint-4000\n",
      "Configuration saved in ./vit-base-beans/checkpoint-4000/config.json\n",
      "Model weights saved in ./vit-base-beans/checkpoint-4000/pytorch_model.bin\n",
      "Feature extractor saved in ./vit-base-beans/checkpoint-4000/preprocessor_config.json\n",
      "Deleting older checkpoint [vit-base-beans/checkpoint-3000] due to args.save_total_limit\n",
      "/home/yangu/miniconda3/envs/th_env/lib/python3.10/site-packages/PIL/Image.py:2896: DecompressionBombWarning: Image size (110718270 pixels) exceeds limit of 89478485 pixels, could be decompression bomb DOS attack.\n",
      "  warnings.warn(\n",
      "/home/yangu/miniconda3/envs/th_env/lib/python3.10/site-packages/PIL/Image.py:945: UserWarning: Palette images with Transparency expressed in bytes should be converted to RGBA images\n",
      "  warnings.warn(\n",
      "Saving model checkpoint to ./vit-base-beans/checkpoint-4500\n",
      "Configuration saved in ./vit-base-beans/checkpoint-4500/config.json\n",
      "Model weights saved in ./vit-base-beans/checkpoint-4500/pytorch_model.bin\n",
      "Feature extractor saved in ./vit-base-beans/checkpoint-4500/preprocessor_config.json\n",
      "Deleting older checkpoint [vit-base-beans/checkpoint-3500] due to args.save_total_limit\n",
      "/home/yangu/miniconda3/envs/th_env/lib/python3.10/site-packages/PIL/Image.py:945: UserWarning: Palette images with Transparency expressed in bytes should be converted to RGBA images\n",
      "  warnings.warn(\n",
      "Saving model checkpoint to ./vit-base-beans/checkpoint-5000\n",
      "Configuration saved in ./vit-base-beans/checkpoint-5000/config.json\n",
      "Model weights saved in ./vit-base-beans/checkpoint-5000/pytorch_model.bin\n",
      "Feature extractor saved in ./vit-base-beans/checkpoint-5000/preprocessor_config.json\n",
      "Deleting older checkpoint [vit-base-beans/checkpoint-4000] due to args.save_total_limit\n",
      "Saving model checkpoint to ./vit-base-beans/checkpoint-5500\n",
      "Configuration saved in ./vit-base-beans/checkpoint-5500/config.json\n",
      "Model weights saved in ./vit-base-beans/checkpoint-5500/pytorch_model.bin\n",
      "Feature extractor saved in ./vit-base-beans/checkpoint-5500/preprocessor_config.json\n",
      "Deleting older checkpoint [vit-base-beans/checkpoint-4500] due to args.save_total_limit\n",
      "Saving model checkpoint to ./vit-base-beans/checkpoint-6000\n",
      "Configuration saved in ./vit-base-beans/checkpoint-6000/config.json\n",
      "Model weights saved in ./vit-base-beans/checkpoint-6000/pytorch_model.bin\n",
      "Feature extractor saved in ./vit-base-beans/checkpoint-6000/preprocessor_config.json\n",
      "Deleting older checkpoint [vit-base-beans/checkpoint-5000] due to args.save_total_limit\n",
      "/home/yangu/miniconda3/envs/th_env/lib/python3.10/site-packages/PIL/Image.py:945: UserWarning: Palette images with Transparency expressed in bytes should be converted to RGBA images\n",
      "  warnings.warn(\n",
      "Saving model checkpoint to ./vit-base-beans/checkpoint-6500\n",
      "Configuration saved in ./vit-base-beans/checkpoint-6500/config.json\n",
      "Model weights saved in ./vit-base-beans/checkpoint-6500/pytorch_model.bin\n",
      "Feature extractor saved in ./vit-base-beans/checkpoint-6500/preprocessor_config.json\n",
      "Deleting older checkpoint [vit-base-beans/checkpoint-5500] due to args.save_total_limit\n",
      "/home/yangu/miniconda3/envs/th_env/lib/python3.10/site-packages/PIL/Image.py:945: UserWarning: Palette images with Transparency expressed in bytes should be converted to RGBA images\n",
      "  warnings.warn(\n"
     ]
    },
    {
     "name": "stdout",
     "output_type": "stream",
     "text": [
      "{'loss': 0.9433, 'learning_rate': 0.0001500366461448256, 'epoch': 1.0}\n"
     ]
    },
    {
     "name": "stderr",
     "output_type": "stream",
     "text": [
      "Using deprecated `--per_gpu_eval_batch_size` argument which will be removed in a future version. Using `--per_device_eval_batch_size` is preferred.\n",
      "***** Running Evaluation *****\n",
      "  Num examples = 13644\n",
      "  Batch size = 8\n"
     ]
    },
    {
     "data": {
      "application/vnd.jupyter.widget-view+json": {
       "model_id": "9f67c4bccf8644829545a7ca5d26db30",
       "version_major": 2,
       "version_minor": 0
      },
      "text/plain": [
       "  0%|          | 0/853 [00:00<?, ?it/s]"
      ]
     },
     "metadata": {},
     "output_type": "display_data"
    },
    {
     "name": "stderr",
     "output_type": "stream",
     "text": [
      "Using deprecated `--per_gpu_eval_batch_size` argument which will be removed in a future version. Using `--per_device_eval_batch_size` is preferred.\n"
     ]
    },
    {
     "name": "stdout",
     "output_type": "stream",
     "text": [
      "{'eval_loss': 0.809918224811554, 'eval_accuracy': 0.6967897977132805, 'eval_runtime': 168.5222, 'eval_samples_per_second': 80.963, 'eval_steps_per_second': 5.062, 'epoch': 1.0}\n"
     ]
    },
    {
     "name": "stderr",
     "output_type": "stream",
     "text": [
      "Saving model checkpoint to ./vit-base-beans/checkpoint-7000\n",
      "Configuration saved in ./vit-base-beans/checkpoint-7000/config.json\n",
      "Model weights saved in ./vit-base-beans/checkpoint-7000/pytorch_model.bin\n",
      "Feature extractor saved in ./vit-base-beans/checkpoint-7000/preprocessor_config.json\n",
      "Deleting older checkpoint [vit-base-beans/checkpoint-6000] due to args.save_total_limit\n",
      "/home/yangu/miniconda3/envs/th_env/lib/python3.10/site-packages/PIL/Image.py:945: UserWarning: Palette images with Transparency expressed in bytes should be converted to RGBA images\n",
      "  warnings.warn(\n",
      "Saving model checkpoint to ./vit-base-beans/checkpoint-7500\n",
      "Configuration saved in ./vit-base-beans/checkpoint-7500/config.json\n",
      "Model weights saved in ./vit-base-beans/checkpoint-7500/pytorch_model.bin\n",
      "Feature extractor saved in ./vit-base-beans/checkpoint-7500/preprocessor_config.json\n",
      "Deleting older checkpoint [vit-base-beans/checkpoint-6500] due to args.save_total_limit\n",
      "Saving model checkpoint to ./vit-base-beans/checkpoint-8000\n",
      "Configuration saved in ./vit-base-beans/checkpoint-8000/config.json\n",
      "Model weights saved in ./vit-base-beans/checkpoint-8000/pytorch_model.bin\n",
      "Feature extractor saved in ./vit-base-beans/checkpoint-8000/preprocessor_config.json\n",
      "Deleting older checkpoint [vit-base-beans/checkpoint-7000] due to args.save_total_limit\n",
      "/home/yangu/miniconda3/envs/th_env/lib/python3.10/site-packages/PIL/Image.py:945: UserWarning: Palette images with Transparency expressed in bytes should be converted to RGBA images\n",
      "  warnings.warn(\n",
      "Saving model checkpoint to ./vit-base-beans/checkpoint-8500\n",
      "Configuration saved in ./vit-base-beans/checkpoint-8500/config.json\n",
      "Model weights saved in ./vit-base-beans/checkpoint-8500/pytorch_model.bin\n",
      "Feature extractor saved in ./vit-base-beans/checkpoint-8500/preprocessor_config.json\n",
      "Deleting older checkpoint [vit-base-beans/checkpoint-7500] due to args.save_total_limit\n",
      "/home/yangu/miniconda3/envs/th_env/lib/python3.10/site-packages/PIL/Image.py:2896: DecompressionBombWarning: Image size (110718270 pixels) exceeds limit of 89478485 pixels, could be decompression bomb DOS attack.\n",
      "  warnings.warn(\n",
      "/home/yangu/miniconda3/envs/th_env/lib/python3.10/site-packages/PIL/Image.py:945: UserWarning: Palette images with Transparency expressed in bytes should be converted to RGBA images\n",
      "  warnings.warn(\n",
      "Saving model checkpoint to ./vit-base-beans/checkpoint-9000\n",
      "Configuration saved in ./vit-base-beans/checkpoint-9000/config.json\n",
      "Model weights saved in ./vit-base-beans/checkpoint-9000/pytorch_model.bin\n",
      "Feature extractor saved in ./vit-base-beans/checkpoint-9000/preprocessor_config.json\n",
      "Deleting older checkpoint [vit-base-beans/checkpoint-8000] due to args.save_total_limit\n",
      "/home/yangu/miniconda3/envs/th_env/lib/python3.10/site-packages/PIL/Image.py:945: UserWarning: Palette images with Transparency expressed in bytes should be converted to RGBA images\n",
      "  warnings.warn(\n",
      "Saving model checkpoint to ./vit-base-beans/checkpoint-9500\n",
      "Configuration saved in ./vit-base-beans/checkpoint-9500/config.json\n",
      "Model weights saved in ./vit-base-beans/checkpoint-9500/pytorch_model.bin\n",
      "Feature extractor saved in ./vit-base-beans/checkpoint-9500/preprocessor_config.json\n",
      "Deleting older checkpoint [vit-base-beans/checkpoint-8500] due to args.save_total_limit\n",
      "/home/yangu/miniconda3/envs/th_env/lib/python3.10/site-packages/PIL/Image.py:945: UserWarning: Palette images with Transparency expressed in bytes should be converted to RGBA images\n",
      "  warnings.warn(\n",
      "Saving model checkpoint to ./vit-base-beans/checkpoint-10000\n",
      "Configuration saved in ./vit-base-beans/checkpoint-10000/config.json\n",
      "Model weights saved in ./vit-base-beans/checkpoint-10000/pytorch_model.bin\n",
      "Feature extractor saved in ./vit-base-beans/checkpoint-10000/preprocessor_config.json\n",
      "Deleting older checkpoint [vit-base-beans/checkpoint-9000] due to args.save_total_limit\n",
      "/home/yangu/miniconda3/envs/th_env/lib/python3.10/site-packages/PIL/Image.py:945: UserWarning: Palette images with Transparency expressed in bytes should be converted to RGBA images\n",
      "  warnings.warn(\n",
      "Saving model checkpoint to ./vit-base-beans/checkpoint-10500\n",
      "Configuration saved in ./vit-base-beans/checkpoint-10500/config.json\n",
      "Model weights saved in ./vit-base-beans/checkpoint-10500/pytorch_model.bin\n",
      "Feature extractor saved in ./vit-base-beans/checkpoint-10500/preprocessor_config.json\n",
      "Deleting older checkpoint [vit-base-beans/checkpoint-9500] due to args.save_total_limit\n",
      "/home/yangu/miniconda3/envs/th_env/lib/python3.10/site-packages/PIL/Image.py:945: UserWarning: Palette images with Transparency expressed in bytes should be converted to RGBA images\n",
      "  warnings.warn(\n",
      "Saving model checkpoint to ./vit-base-beans/checkpoint-11000\n",
      "Configuration saved in ./vit-base-beans/checkpoint-11000/config.json\n",
      "Model weights saved in ./vit-base-beans/checkpoint-11000/pytorch_model.bin\n",
      "Feature extractor saved in ./vit-base-beans/checkpoint-11000/preprocessor_config.json\n",
      "Deleting older checkpoint [vit-base-beans/checkpoint-10000] due to args.save_total_limit\n",
      "Saving model checkpoint to ./vit-base-beans/checkpoint-11500\n",
      "Configuration saved in ./vit-base-beans/checkpoint-11500/config.json\n",
      "Model weights saved in ./vit-base-beans/checkpoint-11500/pytorch_model.bin\n",
      "Feature extractor saved in ./vit-base-beans/checkpoint-11500/preprocessor_config.json\n",
      "Deleting older checkpoint [vit-base-beans/checkpoint-10500] due to args.save_total_limit\n",
      "/home/yangu/miniconda3/envs/th_env/lib/python3.10/site-packages/PIL/Image.py:945: UserWarning: Palette images with Transparency expressed in bytes should be converted to RGBA images\n",
      "  warnings.warn(\n",
      "Saving model checkpoint to ./vit-base-beans/checkpoint-12000\n",
      "Configuration saved in ./vit-base-beans/checkpoint-12000/config.json\n",
      "Model weights saved in ./vit-base-beans/checkpoint-12000/pytorch_model.bin\n",
      "Feature extractor saved in ./vit-base-beans/checkpoint-12000/preprocessor_config.json\n",
      "Deleting older checkpoint [vit-base-beans/checkpoint-11000] due to args.save_total_limit\n",
      "/home/yangu/miniconda3/envs/th_env/lib/python3.10/site-packages/PIL/Image.py:945: UserWarning: Palette images with Transparency expressed in bytes should be converted to RGBA images\n",
      "  warnings.warn(\n",
      "Saving model checkpoint to ./vit-base-beans/checkpoint-12500\n",
      "Configuration saved in ./vit-base-beans/checkpoint-12500/config.json\n",
      "Model weights saved in ./vit-base-beans/checkpoint-12500/pytorch_model.bin\n",
      "Feature extractor saved in ./vit-base-beans/checkpoint-12500/preprocessor_config.json\n",
      "Deleting older checkpoint [vit-base-beans/checkpoint-11500] due to args.save_total_limit\n",
      "Saving model checkpoint to ./vit-base-beans/checkpoint-13000\n",
      "Configuration saved in ./vit-base-beans/checkpoint-13000/config.json\n",
      "Model weights saved in ./vit-base-beans/checkpoint-13000/pytorch_model.bin\n",
      "Feature extractor saved in ./vit-base-beans/checkpoint-13000/preprocessor_config.json\n",
      "Deleting older checkpoint [vit-base-beans/checkpoint-12000] due to args.save_total_limit\n",
      "/home/yangu/miniconda3/envs/th_env/lib/python3.10/site-packages/PIL/Image.py:945: UserWarning: Palette images with Transparency expressed in bytes should be converted to RGBA images\n",
      "  warnings.warn(\n",
      "Saving model checkpoint to ./vit-base-beans/checkpoint-13500\n",
      "Configuration saved in ./vit-base-beans/checkpoint-13500/config.json\n",
      "Model weights saved in ./vit-base-beans/checkpoint-13500/pytorch_model.bin\n",
      "Feature extractor saved in ./vit-base-beans/checkpoint-13500/preprocessor_config.json\n",
      "Deleting older checkpoint [vit-base-beans/checkpoint-12500] due to args.save_total_limit\n"
     ]
    },
    {
     "name": "stdout",
     "output_type": "stream",
     "text": [
      "{'loss': 0.7252, 'learning_rate': 0.00010005863383172091, 'epoch': 2.0}\n"
     ]
    },
    {
     "name": "stderr",
     "output_type": "stream",
     "text": [
      "Using deprecated `--per_gpu_eval_batch_size` argument which will be removed in a future version. Using `--per_device_eval_batch_size` is preferred.\n",
      "***** Running Evaluation *****\n",
      "  Num examples = 13644\n",
      "  Batch size = 8\n"
     ]
    },
    {
     "data": {
      "application/vnd.jupyter.widget-view+json": {
       "model_id": "c582bcac9def456f88b64bb0bca02a11",
       "version_major": 2,
       "version_minor": 0
      },
      "text/plain": [
       "  0%|          | 0/853 [00:00<?, ?it/s]"
      ]
     },
     "metadata": {},
     "output_type": "display_data"
    },
    {
     "name": "stderr",
     "output_type": "stream",
     "text": [
      "Using deprecated `--per_gpu_eval_batch_size` argument which will be removed in a future version. Using `--per_device_eval_batch_size` is preferred.\n"
     ]
    },
    {
     "name": "stdout",
     "output_type": "stream",
     "text": [
      "{'eval_loss': 0.7269185781478882, 'eval_accuracy': 0.7331427733802404, 'eval_runtime': 168.2311, 'eval_samples_per_second': 81.103, 'eval_steps_per_second': 5.07, 'epoch': 2.0}\n"
     ]
    },
    {
     "name": "stderr",
     "output_type": "stream",
     "text": [
      "Saving model checkpoint to ./vit-base-beans/checkpoint-14000\n",
      "Configuration saved in ./vit-base-beans/checkpoint-14000/config.json\n",
      "Model weights saved in ./vit-base-beans/checkpoint-14000/pytorch_model.bin\n",
      "Feature extractor saved in ./vit-base-beans/checkpoint-14000/preprocessor_config.json\n",
      "Deleting older checkpoint [vit-base-beans/checkpoint-13000] due to args.save_total_limit\n",
      "/home/yangu/miniconda3/envs/th_env/lib/python3.10/site-packages/PIL/Image.py:945: UserWarning: Palette images with Transparency expressed in bytes should be converted to RGBA images\n",
      "  warnings.warn(\n",
      "Saving model checkpoint to ./vit-base-beans/checkpoint-14500\n",
      "Configuration saved in ./vit-base-beans/checkpoint-14500/config.json\n",
      "Model weights saved in ./vit-base-beans/checkpoint-14500/pytorch_model.bin\n",
      "Feature extractor saved in ./vit-base-beans/checkpoint-14500/preprocessor_config.json\n",
      "Deleting older checkpoint [vit-base-beans/checkpoint-13500] due to args.save_total_limit\n",
      "/home/yangu/miniconda3/envs/th_env/lib/python3.10/site-packages/PIL/Image.py:945: UserWarning: Palette images with Transparency expressed in bytes should be converted to RGBA images\n",
      "  warnings.warn(\n",
      "Saving model checkpoint to ./vit-base-beans/checkpoint-15000\n",
      "Configuration saved in ./vit-base-beans/checkpoint-15000/config.json\n",
      "Model weights saved in ./vit-base-beans/checkpoint-15000/pytorch_model.bin\n",
      "Feature extractor saved in ./vit-base-beans/checkpoint-15000/preprocessor_config.json\n",
      "Deleting older checkpoint [vit-base-beans/checkpoint-14000] due to args.save_total_limit\n",
      "Saving model checkpoint to ./vit-base-beans/checkpoint-15500\n",
      "Configuration saved in ./vit-base-beans/checkpoint-15500/config.json\n",
      "Model weights saved in ./vit-base-beans/checkpoint-15500/pytorch_model.bin\n",
      "Feature extractor saved in ./vit-base-beans/checkpoint-15500/preprocessor_config.json\n",
      "Deleting older checkpoint [vit-base-beans/checkpoint-14500] due to args.save_total_limit\n",
      "/home/yangu/miniconda3/envs/th_env/lib/python3.10/site-packages/PIL/Image.py:945: UserWarning: Palette images with Transparency expressed in bytes should be converted to RGBA images\n",
      "  warnings.warn(\n",
      "Saving model checkpoint to ./vit-base-beans/checkpoint-16000\n",
      "Configuration saved in ./vit-base-beans/checkpoint-16000/config.json\n",
      "Model weights saved in ./vit-base-beans/checkpoint-16000/pytorch_model.bin\n",
      "Feature extractor saved in ./vit-base-beans/checkpoint-16000/preprocessor_config.json\n",
      "Deleting older checkpoint [vit-base-beans/checkpoint-15000] due to args.save_total_limit\n",
      "Saving model checkpoint to ./vit-base-beans/checkpoint-16500\n",
      "Configuration saved in ./vit-base-beans/checkpoint-16500/config.json\n",
      "Model weights saved in ./vit-base-beans/checkpoint-16500/pytorch_model.bin\n",
      "Feature extractor saved in ./vit-base-beans/checkpoint-16500/preprocessor_config.json\n",
      "Deleting older checkpoint [vit-base-beans/checkpoint-15500] due to args.save_total_limit\n",
      "/home/yangu/miniconda3/envs/th_env/lib/python3.10/site-packages/PIL/Image.py:945: UserWarning: Palette images with Transparency expressed in bytes should be converted to RGBA images\n",
      "  warnings.warn(\n",
      "Saving model checkpoint to ./vit-base-beans/checkpoint-17000\n",
      "Configuration saved in ./vit-base-beans/checkpoint-17000/config.json\n",
      "Model weights saved in ./vit-base-beans/checkpoint-17000/pytorch_model.bin\n",
      "Feature extractor saved in ./vit-base-beans/checkpoint-17000/preprocessor_config.json\n",
      "Deleting older checkpoint [vit-base-beans/checkpoint-16000] due to args.save_total_limit\n",
      "Saving model checkpoint to ./vit-base-beans/checkpoint-17500\n",
      "Configuration saved in ./vit-base-beans/checkpoint-17500/config.json\n",
      "Model weights saved in ./vit-base-beans/checkpoint-17500/pytorch_model.bin\n",
      "Feature extractor saved in ./vit-base-beans/checkpoint-17500/preprocessor_config.json\n",
      "Deleting older checkpoint [vit-base-beans/checkpoint-16500] due to args.save_total_limit\n",
      "/home/yangu/miniconda3/envs/th_env/lib/python3.10/site-packages/PIL/Image.py:945: UserWarning: Palette images with Transparency expressed in bytes should be converted to RGBA images\n",
      "  warnings.warn(\n",
      "Saving model checkpoint to ./vit-base-beans/checkpoint-18000\n",
      "Configuration saved in ./vit-base-beans/checkpoint-18000/config.json\n",
      "Model weights saved in ./vit-base-beans/checkpoint-18000/pytorch_model.bin\n",
      "Feature extractor saved in ./vit-base-beans/checkpoint-18000/preprocessor_config.json\n",
      "Deleting older checkpoint [vit-base-beans/checkpoint-17000] due to args.save_total_limit\n",
      "Saving model checkpoint to ./vit-base-beans/checkpoint-18500\n",
      "Configuration saved in ./vit-base-beans/checkpoint-18500/config.json\n",
      "Model weights saved in ./vit-base-beans/checkpoint-18500/pytorch_model.bin\n",
      "Feature extractor saved in ./vit-base-beans/checkpoint-18500/preprocessor_config.json\n",
      "Deleting older checkpoint [vit-base-beans/checkpoint-17500] due to args.save_total_limit\n",
      "/home/yangu/miniconda3/envs/th_env/lib/python3.10/site-packages/PIL/Image.py:945: UserWarning: Palette images with Transparency expressed in bytes should be converted to RGBA images\n",
      "  warnings.warn(\n",
      "Saving model checkpoint to ./vit-base-beans/checkpoint-19000\n",
      "Configuration saved in ./vit-base-beans/checkpoint-19000/config.json\n",
      "Model weights saved in ./vit-base-beans/checkpoint-19000/pytorch_model.bin\n",
      "Feature extractor saved in ./vit-base-beans/checkpoint-19000/preprocessor_config.json\n",
      "Deleting older checkpoint [vit-base-beans/checkpoint-18000] due to args.save_total_limit\n",
      "/home/yangu/miniconda3/envs/th_env/lib/python3.10/site-packages/PIL/Image.py:945: UserWarning: Palette images with Transparency expressed in bytes should be converted to RGBA images\n",
      "  warnings.warn(\n",
      "Saving model checkpoint to ./vit-base-beans/checkpoint-19500\n",
      "Configuration saved in ./vit-base-beans/checkpoint-19500/config.json\n",
      "Model weights saved in ./vit-base-beans/checkpoint-19500/pytorch_model.bin\n",
      "Feature extractor saved in ./vit-base-beans/checkpoint-19500/preprocessor_config.json\n",
      "Deleting older checkpoint [vit-base-beans/checkpoint-18500] due to args.save_total_limit\n",
      "/home/yangu/miniconda3/envs/th_env/lib/python3.10/site-packages/PIL/Image.py:945: UserWarning: Palette images with Transparency expressed in bytes should be converted to RGBA images\n",
      "  warnings.warn(\n",
      "Saving model checkpoint to ./vit-base-beans/checkpoint-20000\n",
      "Configuration saved in ./vit-base-beans/checkpoint-20000/config.json\n",
      "Model weights saved in ./vit-base-beans/checkpoint-20000/pytorch_model.bin\n",
      "Feature extractor saved in ./vit-base-beans/checkpoint-20000/preprocessor_config.json\n",
      "Deleting older checkpoint [vit-base-beans/checkpoint-19000] due to args.save_total_limit\n",
      "/home/yangu/miniconda3/envs/th_env/lib/python3.10/site-packages/PIL/Image.py:945: UserWarning: Palette images with Transparency expressed in bytes should be converted to RGBA images\n",
      "  warnings.warn(\n",
      "/home/yangu/miniconda3/envs/th_env/lib/python3.10/site-packages/PIL/Image.py:2896: DecompressionBombWarning: Image size (110718270 pixels) exceeds limit of 89478485 pixels, could be decompression bomb DOS attack.\n",
      "  warnings.warn(\n"
     ]
    },
    {
     "name": "stdout",
     "output_type": "stream",
     "text": [
      "{'loss': 0.5066, 'learning_rate': 5.008795074758136e-05, 'epoch': 3.0}\n"
     ]
    },
    {
     "name": "stderr",
     "output_type": "stream",
     "text": [
      "Using deprecated `--per_gpu_eval_batch_size` argument which will be removed in a future version. Using `--per_device_eval_batch_size` is preferred.\n",
      "***** Running Evaluation *****\n",
      "  Num examples = 13644\n",
      "  Batch size = 8\n"
     ]
    },
    {
     "data": {
      "application/vnd.jupyter.widget-view+json": {
       "model_id": "6e9e8a0dc22044e6a9ea522f8de651ed",
       "version_major": 2,
       "version_minor": 0
      },
      "text/plain": [
       "  0%|          | 0/853 [00:00<?, ?it/s]"
      ]
     },
     "metadata": {},
     "output_type": "display_data"
    },
    {
     "name": "stderr",
     "output_type": "stream",
     "text": [
      "Using deprecated `--per_gpu_eval_batch_size` argument which will be removed in a future version. Using `--per_device_eval_batch_size` is preferred.\n"
     ]
    },
    {
     "name": "stdout",
     "output_type": "stream",
     "text": [
      "{'eval_loss': 0.7801440954208374, 'eval_accuracy': 0.739739079448842, 'eval_runtime': 164.8493, 'eval_samples_per_second': 82.766, 'eval_steps_per_second': 5.174, 'epoch': 3.0}\n"
     ]
    },
    {
     "name": "stderr",
     "output_type": "stream",
     "text": [
      "Saving model checkpoint to ./vit-base-beans/checkpoint-20500\n",
      "Configuration saved in ./vit-base-beans/checkpoint-20500/config.json\n",
      "Model weights saved in ./vit-base-beans/checkpoint-20500/pytorch_model.bin\n",
      "Feature extractor saved in ./vit-base-beans/checkpoint-20500/preprocessor_config.json\n",
      "Deleting older checkpoint [vit-base-beans/checkpoint-19500] due to args.save_total_limit\n",
      "Saving model checkpoint to ./vit-base-beans/checkpoint-21000\n",
      "Configuration saved in ./vit-base-beans/checkpoint-21000/config.json\n",
      "Model weights saved in ./vit-base-beans/checkpoint-21000/pytorch_model.bin\n",
      "Feature extractor saved in ./vit-base-beans/checkpoint-21000/preprocessor_config.json\n",
      "Deleting older checkpoint [vit-base-beans/checkpoint-20000] due to args.save_total_limit\n",
      "/home/yangu/miniconda3/envs/th_env/lib/python3.10/site-packages/PIL/Image.py:945: UserWarning: Palette images with Transparency expressed in bytes should be converted to RGBA images\n",
      "  warnings.warn(\n",
      "Saving model checkpoint to ./vit-base-beans/checkpoint-21500\n",
      "Configuration saved in ./vit-base-beans/checkpoint-21500/config.json\n",
      "Model weights saved in ./vit-base-beans/checkpoint-21500/pytorch_model.bin\n",
      "Feature extractor saved in ./vit-base-beans/checkpoint-21500/preprocessor_config.json\n",
      "Deleting older checkpoint [vit-base-beans/checkpoint-20500] due to args.save_total_limit\n",
      "Saving model checkpoint to ./vit-base-beans/checkpoint-22000\n",
      "Configuration saved in ./vit-base-beans/checkpoint-22000/config.json\n",
      "Model weights saved in ./vit-base-beans/checkpoint-22000/pytorch_model.bin\n",
      "Feature extractor saved in ./vit-base-beans/checkpoint-22000/preprocessor_config.json\n",
      "Deleting older checkpoint [vit-base-beans/checkpoint-21000] due to args.save_total_limit\n",
      "/home/yangu/miniconda3/envs/th_env/lib/python3.10/site-packages/PIL/Image.py:945: UserWarning: Palette images with Transparency expressed in bytes should be converted to RGBA images\n",
      "  warnings.warn(\n",
      "Saving model checkpoint to ./vit-base-beans/checkpoint-22500\n",
      "Configuration saved in ./vit-base-beans/checkpoint-22500/config.json\n",
      "Model weights saved in ./vit-base-beans/checkpoint-22500/pytorch_model.bin\n",
      "Feature extractor saved in ./vit-base-beans/checkpoint-22500/preprocessor_config.json\n",
      "Deleting older checkpoint [vit-base-beans/checkpoint-21500] due to args.save_total_limit\n",
      "Saving model checkpoint to ./vit-base-beans/checkpoint-23000\n",
      "Configuration saved in ./vit-base-beans/checkpoint-23000/config.json\n",
      "Model weights saved in ./vit-base-beans/checkpoint-23000/pytorch_model.bin\n",
      "Feature extractor saved in ./vit-base-beans/checkpoint-23000/preprocessor_config.json\n",
      "Deleting older checkpoint [vit-base-beans/checkpoint-22000] due to args.save_total_limit\n",
      "/home/yangu/miniconda3/envs/th_env/lib/python3.10/site-packages/PIL/Image.py:945: UserWarning: Palette images with Transparency expressed in bytes should be converted to RGBA images\n",
      "  warnings.warn(\n",
      "Saving model checkpoint to ./vit-base-beans/checkpoint-23500\n",
      "Configuration saved in ./vit-base-beans/checkpoint-23500/config.json\n",
      "Model weights saved in ./vit-base-beans/checkpoint-23500/pytorch_model.bin\n",
      "Feature extractor saved in ./vit-base-beans/checkpoint-23500/preprocessor_config.json\n",
      "Deleting older checkpoint [vit-base-beans/checkpoint-22500] due to args.save_total_limit\n",
      "/home/yangu/miniconda3/envs/th_env/lib/python3.10/site-packages/PIL/Image.py:945: UserWarning: Palette images with Transparency expressed in bytes should be converted to RGBA images\n",
      "  warnings.warn(\n",
      "Saving model checkpoint to ./vit-base-beans/checkpoint-24000\n",
      "Configuration saved in ./vit-base-beans/checkpoint-24000/config.json\n",
      "Model weights saved in ./vit-base-beans/checkpoint-24000/pytorch_model.bin\n",
      "Feature extractor saved in ./vit-base-beans/checkpoint-24000/preprocessor_config.json\n",
      "Deleting older checkpoint [vit-base-beans/checkpoint-23000] due to args.save_total_limit\n",
      "/home/yangu/miniconda3/envs/th_env/lib/python3.10/site-packages/PIL/Image.py:945: UserWarning: Palette images with Transparency expressed in bytes should be converted to RGBA images\n",
      "  warnings.warn(\n",
      "Saving model checkpoint to ./vit-base-beans/checkpoint-24500\n",
      "Configuration saved in ./vit-base-beans/checkpoint-24500/config.json\n",
      "Model weights saved in ./vit-base-beans/checkpoint-24500/pytorch_model.bin\n",
      "Feature extractor saved in ./vit-base-beans/checkpoint-24500/preprocessor_config.json\n",
      "Deleting older checkpoint [vit-base-beans/checkpoint-23500] due to args.save_total_limit\n",
      "Saving model checkpoint to ./vit-base-beans/checkpoint-25000\n",
      "Configuration saved in ./vit-base-beans/checkpoint-25000/config.json\n",
      "Model weights saved in ./vit-base-beans/checkpoint-25000/pytorch_model.bin\n",
      "Feature extractor saved in ./vit-base-beans/checkpoint-25000/preprocessor_config.json\n",
      "Deleting older checkpoint [vit-base-beans/checkpoint-24000] due to args.save_total_limit\n",
      "Saving model checkpoint to ./vit-base-beans/checkpoint-25500\n",
      "Configuration saved in ./vit-base-beans/checkpoint-25500/config.json\n",
      "Model weights saved in ./vit-base-beans/checkpoint-25500/pytorch_model.bin\n",
      "Feature extractor saved in ./vit-base-beans/checkpoint-25500/preprocessor_config.json\n",
      "Deleting older checkpoint [vit-base-beans/checkpoint-24500] due to args.save_total_limit\n",
      "/home/yangu/miniconda3/envs/th_env/lib/python3.10/site-packages/PIL/Image.py:2896: DecompressionBombWarning: Image size (110718270 pixels) exceeds limit of 89478485 pixels, could be decompression bomb DOS attack.\n",
      "  warnings.warn(\n",
      "/home/yangu/miniconda3/envs/th_env/lib/python3.10/site-packages/PIL/Image.py:945: UserWarning: Palette images with Transparency expressed in bytes should be converted to RGBA images\n",
      "  warnings.warn(\n",
      "Saving model checkpoint to ./vit-base-beans/checkpoint-26000\n",
      "Configuration saved in ./vit-base-beans/checkpoint-26000/config.json\n",
      "Model weights saved in ./vit-base-beans/checkpoint-26000/pytorch_model.bin\n",
      "Feature extractor saved in ./vit-base-beans/checkpoint-26000/preprocessor_config.json\n",
      "Deleting older checkpoint [vit-base-beans/checkpoint-25000] due to args.save_total_limit\n",
      "/home/yangu/miniconda3/envs/th_env/lib/python3.10/site-packages/PIL/Image.py:945: UserWarning: Palette images with Transparency expressed in bytes should be converted to RGBA images\n",
      "  warnings.warn(\n",
      "Saving model checkpoint to ./vit-base-beans/checkpoint-26500\n",
      "Configuration saved in ./vit-base-beans/checkpoint-26500/config.json\n",
      "Model weights saved in ./vit-base-beans/checkpoint-26500/pytorch_model.bin\n",
      "Feature extractor saved in ./vit-base-beans/checkpoint-26500/preprocessor_config.json\n",
      "Deleting older checkpoint [vit-base-beans/checkpoint-25500] due to args.save_total_limit\n",
      "/home/yangu/miniconda3/envs/th_env/lib/python3.10/site-packages/PIL/Image.py:945: UserWarning: Palette images with Transparency expressed in bytes should be converted to RGBA images\n",
      "  warnings.warn(\n",
      "Saving model checkpoint to ./vit-base-beans/checkpoint-27000\n",
      "Configuration saved in ./vit-base-beans/checkpoint-27000/config.json\n",
      "Model weights saved in ./vit-base-beans/checkpoint-27000/pytorch_model.bin\n",
      "Feature extractor saved in ./vit-base-beans/checkpoint-27000/preprocessor_config.json\n",
      "Deleting older checkpoint [vit-base-beans/checkpoint-26000] due to args.save_total_limit\n",
      "/home/yangu/miniconda3/envs/th_env/lib/python3.10/site-packages/PIL/Image.py:945: UserWarning: Palette images with Transparency expressed in bytes should be converted to RGBA images\n",
      "  warnings.warn(\n"
     ]
    },
    {
     "name": "stdout",
     "output_type": "stream",
     "text": [
      "{'loss': 0.2441, 'learning_rate': 1.1726766344180592e-07, 'epoch': 4.0}\n"
     ]
    },
    {
     "name": "stderr",
     "output_type": "stream",
     "text": [
      "Using deprecated `--per_gpu_eval_batch_size` argument which will be removed in a future version. Using `--per_device_eval_batch_size` is preferred.\n",
      "***** Running Evaluation *****\n",
      "  Num examples = 13644\n",
      "  Batch size = 8\n"
     ]
    },
    {
     "data": {
      "application/vnd.jupyter.widget-view+json": {
       "model_id": "26634860453445259fbb24904f6297a7",
       "version_major": 2,
       "version_minor": 0
      },
      "text/plain": [
       "  0%|          | 0/853 [00:00<?, ?it/s]"
      ]
     },
     "metadata": {},
     "output_type": "display_data"
    },
    {
     "name": "stderr",
     "output_type": "stream",
     "text": [
      "Using deprecated `--per_gpu_eval_batch_size` argument which will be removed in a future version. Using `--per_device_eval_batch_size` is preferred.\n",
      "\n",
      "\n",
      "Training completed. Do not forget to share your model on huggingface.co/models =)\n",
      "\n",
      "\n"
     ]
    },
    {
     "name": "stdout",
     "output_type": "stream",
     "text": [
      "{'eval_loss': 1.0355395078659058, 'eval_accuracy': 0.7338024039871005, 'eval_runtime': 164.5363, 'eval_samples_per_second': 82.924, 'eval_steps_per_second': 5.184, 'epoch': 4.0}\n",
      "{'train_runtime': 9318.4694, 'train_samples_per_second': 46.853, 'train_steps_per_second': 2.928, 'train_loss': 0.6047566806385853, 'epoch': 4.0}\n"
     ]
    },
    {
     "data": {
      "text/plain": [
       "TrainOutput(global_step=27288, training_loss=0.6047566806385853, metrics={'train_runtime': 9318.4694, 'train_samples_per_second': 46.853, 'train_steps_per_second': 2.928, 'train_loss': 0.6047566806385853, 'epoch': 4.0})"
      ]
     },
     "execution_count": 11,
     "metadata": {},
     "output_type": "execute_result"
    }
   ],
   "source": [
    "from transformers import Trainer\n",
    "\n",
    "trainer = Trainer(\n",
    "    model=model,\n",
    "    args=training_args,\n",
    "    data_collator=collate_fn,\n",
    "    compute_metrics=compute_metrics,\n",
    "    train_dataset=mid_train_dataset,\n",
    "    eval_dataset=mid_valid_dataset,\n",
    "    tokenizer=feature_extractor,\n",
    ")\n",
    "trainer.train()"
   ]
  },
  {
   "cell_type": "code",
   "execution_count": null,
   "metadata": {},
   "outputs": [],
   "source": []
  }
 ],
 "metadata": {
  "kernelspec": {
   "display_name": "Python 3.10.4 ('th_env')",
   "language": "python",
   "name": "python3"
  },
  "language_info": {
   "codemirror_mode": {
    "name": "ipython",
    "version": 3
   },
   "file_extension": ".py",
   "mimetype": "text/x-python",
   "name": "python",
   "nbconvert_exporter": "python",
   "pygments_lexer": "ipython3",
   "version": "3.10.4"
  },
  "orig_nbformat": 4,
  "vscode": {
   "interpreter": {
    "hash": "9195b6298d6a7344dfdd9b7dd22369761981621f82b452f68b5e000f5e42045d"
   }
  }
 },
 "nbformat": 4,
 "nbformat_minor": 2
}
