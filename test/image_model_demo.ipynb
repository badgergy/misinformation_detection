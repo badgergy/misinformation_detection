{
 "cells": [
  {
   "cell_type": "code",
   "execution_count": 1,
   "metadata": {},
   "outputs": [
    {
     "data": {
      "text/plain": [
       "<matplotlib.pyplot._IonContext at 0x7f83bea37fa0>"
      ]
     },
     "execution_count": 1,
     "metadata": {},
     "output_type": "execute_result"
    }
   ],
   "source": [
    "import os\n",
    "from PIL import Image, ImageFile\n",
    "ImageFile.LOAD_TRUNCATED_IMAGES = True\n",
    "import pandas as pd\n",
    "import torch\n",
    "from torch.utils.data import Dataset, DataLoader\n",
    "import torch.nn as nn\n",
    "import torch.optim as optim\n",
    "from torch.optim import lr_scheduler\n",
    "import torch.backends.cudnn as cudnn\n",
    "import numpy as np\n",
    "import torchvision\n",
    "from torchvision import datasets, models, transforms\n",
    "import matplotlib.pyplot as plt\n",
    "import time\n",
    "import os\n",
    "import copy\n",
    "from tqdm import tqdm\n",
    "\n",
    "cudnn.benchmark = True\n",
    "plt.ion()"
   ]
  },
  {
   "cell_type": "code",
   "execution_count": 2,
   "metadata": {},
   "outputs": [],
   "source": [
    "HOME = os.path.expanduser('~')\n",
    "NEWS_DATA_DIR = \"Projects/Datasets/public_news_set\"\n",
    "IMAGE_DATA_DIR = \"Projects/Datasets/public_image_set\"\n",
    "TRAIN_FILE = \"multimodal_train_cleaned_sample.tsv\"\n",
    "TEST_FILE = \"multimodal_test_cleaned_sample.tsv\"\n",
    "VALID_FLIE = \"multimodal_valid_cleaned_sample.tsv\"\n",
    "DATADIRS = [TRAIN_FILE, TEST_FILE, VALID_FLIE]\n",
    "SUFFIX = '.jpg'\n",
    "\n",
    "LABEL2ID = {0: \"True\", 1: \"Satire/Parody\", 2: \"Misleading Content\", 3: \"Imposter\", 4: \"False connection\", 5: \"Manipulated Content\"}\n",
    "LABELS = [LABEL2ID[i] for i in range(6)]\n",
    "DEVICE = torch.device(\"cuda:0\" if torch.cuda.is_available() else \"cpu\")"
   ]
  },
  {
   "cell_type": "code",
   "execution_count": 3,
   "metadata": {},
   "outputs": [
    {
     "data": {
      "text/html": [
       "<div>\n",
       "<style scoped>\n",
       "    .dataframe tbody tr th:only-of-type {\n",
       "        vertical-align: middle;\n",
       "    }\n",
       "\n",
       "    .dataframe tbody tr th {\n",
       "        vertical-align: top;\n",
       "    }\n",
       "\n",
       "    .dataframe thead th {\n",
       "        text-align: right;\n",
       "    }\n",
       "</style>\n",
       "<table border=\"1\" class=\"dataframe\">\n",
       "  <thead>\n",
       "    <tr style=\"text-align: right;\">\n",
       "      <th></th>\n",
       "      <th>author</th>\n",
       "      <th>clean_title</th>\n",
       "      <th>created_utc</th>\n",
       "      <th>domain</th>\n",
       "      <th>hasImage</th>\n",
       "      <th>id</th>\n",
       "      <th>image_url</th>\n",
       "      <th>linked_submission_id</th>\n",
       "      <th>num_comments</th>\n",
       "      <th>score</th>\n",
       "      <th>subreddit</th>\n",
       "      <th>title</th>\n",
       "      <th>upvote_ratio</th>\n",
       "      <th>2_way_label</th>\n",
       "      <th>3_way_label</th>\n",
       "      <th>6_way_label</th>\n",
       "    </tr>\n",
       "  </thead>\n",
       "  <tbody>\n",
       "    <tr>\n",
       "      <th>0</th>\n",
       "      <td>jnoble50</td>\n",
       "      <td>red skull</td>\n",
       "      <td>1.553267e+09</td>\n",
       "      <td>NaN</td>\n",
       "      <td>True</td>\n",
       "      <td>ej4e1lj</td>\n",
       "      <td>https://i.imgur.com/eD7QGRM.jpg</td>\n",
       "      <td>b44rhx</td>\n",
       "      <td>NaN</td>\n",
       "      <td>58</td>\n",
       "      <td>psbattle_artwork</td>\n",
       "      <td>Red Skull</td>\n",
       "      <td>NaN</td>\n",
       "      <td>0</td>\n",
       "      <td>2</td>\n",
       "      <td>4</td>\n",
       "    </tr>\n",
       "    <tr>\n",
       "      <th>1</th>\n",
       "      <td>Gtash</td>\n",
       "      <td>cafe in bangkok with the cutest employees ever...</td>\n",
       "      <td>1.559911e+09</td>\n",
       "      <td>nynno.com</td>\n",
       "      <td>True</td>\n",
       "      <td>bxu2dd</td>\n",
       "      <td>https://external-preview.redd.it/MS7vkNibB3Yq1...</td>\n",
       "      <td>NaN</td>\n",
       "      <td>0.0</td>\n",
       "      <td>34</td>\n",
       "      <td>upliftingnews</td>\n",
       "      <td>Cafe in Bangkok With the Cutest Employees Ever...</td>\n",
       "      <td>0.78</td>\n",
       "      <td>1</td>\n",
       "      <td>0</td>\n",
       "      <td>0</td>\n",
       "    </tr>\n",
       "    <tr>\n",
       "      <th>2</th>\n",
       "      <td>RoyalPrinceSoldier</td>\n",
       "      <td>he betrayed him</td>\n",
       "      <td>1.400820e+09</td>\n",
       "      <td>NaN</td>\n",
       "      <td>True</td>\n",
       "      <td>chp14h4</td>\n",
       "      <td>http://i.imgur.com/9Q9CCDn.jpg</td>\n",
       "      <td>269qyi</td>\n",
       "      <td>NaN</td>\n",
       "      <td>8</td>\n",
       "      <td>psbattle_artwork</td>\n",
       "      <td>He betrayed him!</td>\n",
       "      <td>NaN</td>\n",
       "      <td>0</td>\n",
       "      <td>2</td>\n",
       "      <td>4</td>\n",
       "    </tr>\n",
       "    <tr>\n",
       "      <th>3</th>\n",
       "      <td>penguinseed</td>\n",
       "      <td>alderman wants to know exactly what bong shops...</td>\n",
       "      <td>1.403114e+09</td>\n",
       "      <td>dnainfo.com</td>\n",
       "      <td>True</td>\n",
       "      <td>28h8p1</td>\n",
       "      <td>https://external-preview.redd.it/lwbRUIzyGF5sU...</td>\n",
       "      <td>NaN</td>\n",
       "      <td>2.0</td>\n",
       "      <td>3</td>\n",
       "      <td>nottheonion</td>\n",
       "      <td>Alderman Wants to Know Exactly What 'Bong Shop...</td>\n",
       "      <td>0.71</td>\n",
       "      <td>1</td>\n",
       "      <td>0</td>\n",
       "      <td>0</td>\n",
       "    </tr>\n",
       "    <tr>\n",
       "      <th>4</th>\n",
       "      <td>DM90</td>\n",
       "      <td>man accused of stalking scots police officer s...</td>\n",
       "      <td>1.383750e+09</td>\n",
       "      <td>dailyrecord.co.uk</td>\n",
       "      <td>True</td>\n",
       "      <td>1q10us</td>\n",
       "      <td>https://external-preview.redd.it/_fNXvGtKcKn_U...</td>\n",
       "      <td>NaN</td>\n",
       "      <td>2.0</td>\n",
       "      <td>23</td>\n",
       "      <td>nottheonion</td>\n",
       "      <td>Man accused of stalking Scots police officer s...</td>\n",
       "      <td>0.84</td>\n",
       "      <td>1</td>\n",
       "      <td>0</td>\n",
       "      <td>0</td>\n",
       "    </tr>\n",
       "  </tbody>\n",
       "</table>\n",
       "</div>"
      ],
      "text/plain": [
       "               author                                        clean_title  \\\n",
       "0            jnoble50                                          red skull   \n",
       "1               Gtash  cafe in bangkok with the cutest employees ever...   \n",
       "2  RoyalPrinceSoldier                                    he betrayed him   \n",
       "3         penguinseed  alderman wants to know exactly what bong shops...   \n",
       "4                DM90  man accused of stalking scots police officer s...   \n",
       "\n",
       "    created_utc             domain  hasImage       id  \\\n",
       "0  1.553267e+09                NaN      True  ej4e1lj   \n",
       "1  1.559911e+09          nynno.com      True   bxu2dd   \n",
       "2  1.400820e+09                NaN      True  chp14h4   \n",
       "3  1.403114e+09        dnainfo.com      True   28h8p1   \n",
       "4  1.383750e+09  dailyrecord.co.uk      True   1q10us   \n",
       "\n",
       "                                           image_url linked_submission_id  \\\n",
       "0                    https://i.imgur.com/eD7QGRM.jpg               b44rhx   \n",
       "1  https://external-preview.redd.it/MS7vkNibB3Yq1...                  NaN   \n",
       "2                     http://i.imgur.com/9Q9CCDn.jpg               269qyi   \n",
       "3  https://external-preview.redd.it/lwbRUIzyGF5sU...                  NaN   \n",
       "4  https://external-preview.redd.it/_fNXvGtKcKn_U...                  NaN   \n",
       "\n",
       "   num_comments  score         subreddit  \\\n",
       "0           NaN     58  psbattle_artwork   \n",
       "1           0.0     34     upliftingnews   \n",
       "2           NaN      8  psbattle_artwork   \n",
       "3           2.0      3       nottheonion   \n",
       "4           2.0     23       nottheonion   \n",
       "\n",
       "                                               title  upvote_ratio  \\\n",
       "0                                          Red Skull           NaN   \n",
       "1  Cafe in Bangkok With the Cutest Employees Ever...          0.78   \n",
       "2                                   He betrayed him!           NaN   \n",
       "3  Alderman Wants to Know Exactly What 'Bong Shop...          0.71   \n",
       "4  Man accused of stalking Scots police officer s...          0.84   \n",
       "\n",
       "   2_way_label  3_way_label  6_way_label  \n",
       "0            0            2            4  \n",
       "1            1            0            0  \n",
       "2            0            2            4  \n",
       "3            1            0            0  \n",
       "4            1            0            0  "
      ]
     },
     "execution_count": 3,
     "metadata": {},
     "output_type": "execute_result"
    }
   ],
   "source": [
    "mid_train = pd.read_csv(os.path.join(HOME, NEWS_DATA_DIR, TRAIN_FILE), sep='\\t')\n",
    "mid_test = pd.read_csv(os.path.join(HOME, NEWS_DATA_DIR, TEST_FILE), sep='\\t')\n",
    "mid_valid = pd.read_csv(os.path.join(HOME, NEWS_DATA_DIR, VALID_FLIE), sep='\\t')\n",
    "mid_train.head()"
   ]
  },
  {
   "cell_type": "code",
   "execution_count": 4,
   "metadata": {},
   "outputs": [
    {
     "data": {
      "text/plain": [
       "(214, 320, 3)"
      ]
     },
     "execution_count": 4,
     "metadata": {},
     "output_type": "execute_result"
    }
   ],
   "source": [
    "im = Image.open(os.path.join(HOME, IMAGE_DATA_DIR, mid_train.id[3] + SUFFIX))\n",
    "np.asarray(im).shape"
   ]
  },
  {
   "cell_type": "code",
   "execution_count": 5,
   "metadata": {},
   "outputs": [
    {
     "data": {
      "text/plain": [
       "(29, 108, 6396, 8400, 0)"
      ]
     },
     "execution_count": 5,
     "metadata": {},
     "output_type": "execute_result"
    }
   ],
   "source": [
    "# check the error image count\n",
    "min_w = float(\"inf\") \n",
    "min_h = float(\"inf\")\n",
    "max_w = 0\n",
    "max_h = 0\n",
    "e_count = 0\n",
    "for i in range(len(mid_test)):    \n",
    "    im = Image.open(os.path.join(HOME, IMAGE_DATA_DIR, mid_test.id[i] + \".jpg\"))\n",
    "    if im.size[0] > max_h:\n",
    "        max_h = im.size[0]\n",
    "    if im.size[1] > max_w:\n",
    "        max_w = im.size[1]\n",
    "    if im.size[0] < min_h:\n",
    "        min_h = im.size[0]\n",
    "    if im.size[1] < min_w:\n",
    "        min_w = im.size[1]\n",
    "\n",
    "min_w, min_h, max_w, max_h, e_count"
   ]
  },
  {
   "cell_type": "markdown",
   "metadata": {},
   "source": [
    "## resize image to fit model need"
   ]
  },
  {
   "cell_type": "code",
   "execution_count": 6,
   "metadata": {},
   "outputs": [],
   "source": [
    "import transformers\n",
    "\n",
    "# transform the train data\n",
    "transform_train = transforms.Compose([\n",
    "    transforms.RandomResizedCrop(224),\n",
    "    transforms.RandomHorizontalFlip(),\n",
    "    transforms.ToTensor(),\n",
    "    transforms.Normalize([0.485, 0.456, 0.406], [0.229, 0.224, 0.225])\n",
    "])\n",
    "\n",
    "# transform the test and validate data\n",
    "transform_val = transforms.Compose([\n",
    "    transforms.Resize(256),\n",
    "    transforms.CenterCrop(224),\n",
    "    transforms.ToTensor(),\n",
    "    transforms.Normalize([0.485, 0.456, 0.406], [0.229, 0.224, 0.225])\n",
    "])"
   ]
  },
  {
   "cell_type": "code",
   "execution_count": 7,
   "metadata": {},
   "outputs": [],
   "source": [
    "def load_trans(filepath, train=True):\n",
    "    im = Image.open(filepath)\n",
    "    # print(np.asarray(im).shape)\n",
    "    # print(filepath)\n",
    "    if im.mode != \"RGB\":\n",
    "        im = im.convert(mode=\"RGB\")\n",
    "    im_trans = transform_train(im) if train else transform_val(im)\n",
    "    return im_trans"
   ]
  },
  {
   "cell_type": "code",
   "execution_count": 8,
   "metadata": {},
   "outputs": [],
   "source": [
    "class ImgDataset(Dataset):\n",
    "    def __init__(self, df, train=True) -> None:\n",
    "        super().__init__()\n",
    "        self.df = df\n",
    "        self.train = train\n",
    "        df.dtype = np.float64\n",
    "        self.labels = df['6_way_label'].values\n",
    "        self.ids = df['id'].values\n",
    "\n",
    "    def __getitem__(self, idx):\n",
    "        img_path = os.path.join(HOME, IMAGE_DATA_DIR, self.df.id[idx] + SUFFIX)\n",
    "        img_tensor = load_trans(img_path, self.train)\n",
    "        label = self.labels[idx]\n",
    "        return img_tensor, label\n",
    "\n",
    "    def __len__(self):\n",
    "        return len(self.labels)\n"
   ]
  },
  {
   "cell_type": "code",
   "execution_count": 16,
   "metadata": {},
   "outputs": [],
   "source": [
    "mid_train_dataset = ImgDataset(mid_train)\n",
    "train_dataloader = DataLoader(mid_train_dataset, batch_size=32)\n",
    "mid_test_dataset = ImgDataset(mid_test, train=False)\n",
    "test_dataloader = DataLoader(mid_test_dataset, batch_size=32)\n",
    "mid_valid_dataset = ImgDataset(mid_valid, train=False)\n",
    "valid_dataloader = DataLoader(mid_valid_dataset, batch_size=32)\n",
    "\n",
    "dataloaders = {'train': train_dataloader, 'val': valid_dataloader}\n",
    "dataset_sizes = {'train': len(mid_train_dataset), 'val': len(mid_valid_dataset)}"
   ]
  },
  {
   "cell_type": "code",
   "execution_count": 10,
   "metadata": {},
   "outputs": [],
   "source": [
    "im = Image.open('/home/yangu/Projects/Datasets/public_image_set/ctdk4x3.jpg')\n",
    "# im.convert(mode='RGB')"
   ]
  },
  {
   "cell_type": "code",
   "execution_count": 11,
   "metadata": {},
   "outputs": [
    {
     "data": {
      "image/png": "[encoded data removed]",
      "text/plain": [
       "<Figure size 432x288 with 1 Axes>"
      ]
     },
     "metadata": {
      "needs_background": "light"
     },
     "output_type": "display_data"
    }
   ],
   "source": [
    "def imshow(inp, title=None):\n",
    "    \"\"\"Imshow for Tensor.\"\"\"\n",
    "    inp = inp.numpy().transpose((1, 2, 0))\n",
    "    mean = np.array([0.485, 0.456, 0.406])\n",
    "    std = np.array([0.229, 0.224, 0.225])\n",
    "    inp = std * inp + mean\n",
    "    inp = np.clip(inp, 0, 1)\n",
    "    plt.imshow(inp)\n",
    "    if title is not None:\n",
    "        plt.title(title)\n",
    "    plt.pause(0.001)  # pause a bit so that plots are updated\n",
    "\n",
    "\n",
    "# Get a batch of training data\n",
    "inputs, classes = next(iter(train_dataloader))\n",
    "\n",
    "\n",
    "# Make a grid from batch\n",
    "out = torchvision.utils.make_grid(inputs)\n",
    "\n",
    "imshow(out, title=[LABEL2ID[x] for x in classes.tolist()])"
   ]
  },
  {
   "cell_type": "code",
   "execution_count": 12,
   "metadata": {},
   "outputs": [],
   "source": [
    "# fine-tune model\n",
    "model_ft = models.resnet50(pretrained=True)\n",
    "num_ftrs = model_ft.fc.in_features\n",
    "\n",
    "model_ft.fc = nn.Linear(num_ftrs, 6)\n",
    "num_ftrs\n",
    "\n",
    "model_ft = model_ft.to(DEVICE)\n",
    "\n",
    "criterion = nn.CrossEntropyLoss()\n",
    "\n",
    "optimizer_ft = optim.SGD(model_ft.parameters(), lr=0.001, momentum=0.9)\n",
    "\n",
    "exp_lr_scheduler = lr_scheduler.StepLR(optimizer_ft, step_size=7, gamma=0.1)\n"
   ]
  },
  {
   "cell_type": "code",
   "execution_count": 13,
   "metadata": {},
   "outputs": [],
   "source": [
    "# train model\n",
    "def train_model(model, criterion, optimizer, scheduler, num_epochs=25):\n",
    "    since = time.time()\n",
    "\n",
    "    best_model_wts = copy.deepcopy(model.state_dict())\n",
    "    best_acc = 0.0\n",
    "\n",
    "    for epoch in range(num_epochs):\n",
    "        print(f'Epoch {epoch}/{num_epochs - 1}')\n",
    "        print('-' * 10)\n",
    "\n",
    "        # Each epoch has a training and validation phase\n",
    "        for phase in ['train', 'val']:\n",
    "            if phase == 'train':\n",
    "                model.train()  # Set model to training mode\n",
    "            else:\n",
    "                model.eval()   # Set model to evaluate mode\n",
    "\n",
    "            running_loss = 0.0\n",
    "            running_corrects = 0\n",
    "\n",
    "            # Iterate over data.\n",
    "            for inputs, labels in tqdm(dataloaders[phase], total=len(dataloaders[phase])):\n",
    "                inputs = inputs.to(DEVICE)\n",
    "                labels = labels.to(DEVICE)\n",
    "\n",
    "                # zero the parameter gradients\n",
    "                optimizer.zero_grad()\n",
    "\n",
    "                # forward\n",
    "                # track history if only in train\n",
    "                with torch.set_grad_enabled(phase == 'train'):\n",
    "                    outputs = model(inputs)\n",
    "                    _, preds = torch.max(outputs, 1)\n",
    "                    loss = criterion(outputs, labels)\n",
    "\n",
    "                    # backward + optimize only if in training phase\n",
    "                    if phase == 'train':\n",
    "                        loss.backward()\n",
    "                        optimizer.step()\n",
    "\n",
    "                # statistics\n",
    "                running_loss += loss.item() * inputs.size(0)\n",
    "                running_corrects += torch.sum(preds == labels.data)\n",
    "            if phase == 'train':\n",
    "                scheduler.step()\n",
    "\n",
    "            epoch_loss = running_loss / dataset_sizes[phase]\n",
    "            epoch_acc = running_corrects.double() / dataset_sizes[phase]\n",
    "\n",
    "            print(f'{phase} Loss: {epoch_loss:.4f} Acc: {epoch_acc:.4f}')\n",
    "\n",
    "            # deep copy the model\n",
    "            if phase == 'val' and epoch_acc > best_acc:\n",
    "                best_acc = epoch_acc\n",
    "                best_model_wts = copy.deepcopy(model.state_dict())\n",
    "\n",
    "        print()\n",
    "\n",
    "    time_elapsed = time.time() - since\n",
    "    print(f'Training complete in {time_elapsed // 60:.0f}m {time_elapsed % 60:.0f}s')\n",
    "    print(f'Best val Acc: {best_acc:4f}')\n",
    "\n",
    "    # load best model weights\n",
    "    model.load_state_dict(best_model_wts)\n",
    "    return model"
   ]
  },
  {
   "cell_type": "code",
   "execution_count": 14,
   "metadata": {},
   "outputs": [],
   "source": [
    "def visualize_model(model, num_images=6):\n",
    "    was_training = model.training\n",
    "    model.eval()\n",
    "    images_so_far = 0\n",
    "    fig = plt.figure()\n",
    "\n",
    "    with torch.no_grad():\n",
    "        for i, (inputs, labels) in enumerate(dataloaders['val']):\n",
    "            inputs = inputs.to(DEVICE)\n",
    "            labels = labels.to(DEVICE)\n",
    "\n",
    "            outputs = model(inputs)\n",
    "            _, preds = torch.max(outputs, 1)\n",
    "\n",
    "            for j in range(inputs.size()[0]):\n",
    "                images_so_far += 1\n",
    "                ax = plt.subplot(num_images//2, 2, images_so_far)\n",
    "                ax.axis('off')\n",
    "                ax.set_title(f'predicted: {LABEL2ID[preds[j]]}')\n",
    "                imshow(inputs.cpu().data[j])\n",
    "\n",
    "                if images_so_far == num_images:\n",
    "                    model.train(mode=was_training)\n",
    "                    return\n",
    "        model.train(mode=was_training)"
   ]
  },
  {
   "cell_type": "code",
   "execution_count": 17,
   "metadata": {},
   "outputs": [
    {
     "name": "stdout",
     "output_type": "stream",
     "text": [
      "Epoch 0/4\n",
      "----------\n"
     ]
    },
    {
     "name": "stderr",
     "output_type": "stream",
     "text": [
      " 31%|███       | 1053/3411 [08:50<18:59,  2.07it/s]"
     ]
    }
   ],
   "source": [
    "model_ft = train_model(model_ft, criterion, optimizer_ft, exp_lr_scheduler,\n",
    "                       num_epochs=5)"
   ]
  },
  {
   "cell_type": "code",
   "execution_count": 46,
   "metadata": {},
   "outputs": [],
   "source": [
    "# test read file from zip file\n",
    "import io\n",
    "import tarfile\n",
    "\n",
    "tar = tarfile.open('/home/yangu/Downloads/public_images.tar.bz2', 'r:bz2')\n",
    "t = tar.getmember('public_image_set/chu0hgb.jpg')\n",
    "te = tar.extractfile(t).read()\n",
    "Image.open(io.BytesIO(te))"
   ]
  }
 ],
 "metadata": {
  "kernelspec": {
   "display_name": "Python 3.10.4 ('th_env')",
   "language": "python",
   "name": "python3"
  },
  "language_info": {
   "codemirror_mode": {
    "name": "ipython",
    "version": 3
   },
   "file_extension": ".py",
   "mimetype": "text/x-python",
   "name": "python",
   "nbconvert_exporter": "python",
   "pygments_lexer": "ipython3",
   "version": "3.10.4"
  },
  "orig_nbformat": 4,
  "vscode": {
   "interpreter": {
    "hash": "9195b6298d6a7344dfdd9b7dd22369761981621f82b452f68b5e000f5e42045d"
   }
  }
 },
 "nbformat": 4,
 "nbformat_minor": 2
}
