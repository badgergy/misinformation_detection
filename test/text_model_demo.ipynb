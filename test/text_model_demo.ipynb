{
 "cells": [
  {
   "cell_type": "code",
   "execution_count": 1,
   "metadata": {},
   "outputs": [],
   "source": [
    "import os\n",
    "import pandas as pd\n",
    "import numpy as np\n",
    "import torch\n",
    "import torch.nn as nn\n",
    "from torch.utils.data import Dataset, DataLoader\n",
    "from transformers import AutoModel, AutoTokenizer\n",
    "\n",
    "from tqdm import tqdm\n",
    "import matplotlib.pyplot as plt"
   ]
  },
  {
   "cell_type": "code",
   "execution_count": 2,
   "metadata": {},
   "outputs": [],
   "source": [
    "data_dir = '~/Projects/Datasets/public_news_set'\n",
    "train_file = \"multimodal_train_cleaned.tsv\"\n",
    "test_file = \"multimodal_test_cleaned.tsv\"\n",
    "valid_flie = \"multimodal_valid_cleaned.tsv\""
   ]
  },
  {
   "cell_type": "code",
   "execution_count": 3,
   "metadata": {},
   "outputs": [],
   "source": [
    "def same_seed(seed):\n",
    "    '''\n",
    "    Fixes random number generator seeds for reproducibility'''\n",
    "    torch.backends.cudnn.deterministic = True\n",
    "    torch.backends.cudnn.benchmark = False\n",
    "    np.random.seed(seed)\n",
    "    torch.manual_seed(seed)\n",
    "    if torch.cuda.is_available():\n",
    "        torch.cuda.manual_seed_all(seed)\n",
    "\n",
    "same_seed(123)"
   ]
  },
  {
   "cell_type": "code",
   "execution_count": 4,
   "metadata": {},
   "outputs": [
    {
     "data": {
      "text/plain": [
       "['True',\n",
       " 'Satire/Parody',\n",
       " 'Misleading Content',\n",
       " 'Imposter',\n",
       " 'False connection',\n",
       " 'Manipulated Content']"
      ]
     },
     "execution_count": 4,
     "metadata": {},
     "output_type": "execute_result"
    }
   ],
   "source": [
    "# IDs to labels\n",
    "label2id = {0: \"True\", 1: \"Satire/Parody\", 2: \"Misleading Content\", 3: \"Imposter\", 4: \"False connection\", 5: \"Manipulated Content\"}\n",
    "labels = [label2id[i] for i in range(6)]\n",
    "labels"
   ]
  },
  {
   "cell_type": "code",
   "execution_count": 5,
   "metadata": {},
   "outputs": [],
   "source": [
    "mid_train = pd.read_csv(os.path.join(data_dir, train_file), sep='\\t')\n",
    "mid_test = pd.read_csv(os.path.join(data_dir, test_file), sep='\\t')\n",
    "mid_val = pd.read_csv(os.path.join(data_dir, valid_flie), sep='\\t')"
   ]
  },
  {
   "cell_type": "code",
   "execution_count": 6,
   "metadata": {},
   "outputs": [
    {
     "name": "stderr",
     "output_type": "stream",
     "text": [
      "[nltk_data] Downloading package stopwords to /home/yangu/nltk_data...\n",
      "[nltk_data]   Package stopwords is already up-to-date!\n"
     ]
    }
   ],
   "source": [
    "import nltk\n",
    "import re\n",
    "nltk.download(\"stopwords\")\n",
    "from nltk.corpus import stopwords\n",
    "\n",
    "def text_preprocessing(sent):\n",
    "    \"\"\"\n",
    "    - Remove entity mentions (e.g. '@united')\n",
    "    - Correct errors (e.g. '&amp;' to '&')\n",
    "    @param  text (str): a string to be processed\n",
    "    @return text (str): the processed string\n",
    "    \"\"\"\n",
    "    sent = re.sub(r'(@.*?)[\\s]', ' ', sent)\n",
    "    sent = re.sub(r'&amp;', '&', sent)\n",
    "    sent = re.sub(r'\\s+', ' ', sent).strip()\n",
    "    return sent\n"
   ]
  },
  {
   "cell_type": "code",
   "execution_count": 7,
   "metadata": {},
   "outputs": [],
   "source": [
    "def fillter_data(df):\n",
    "    df = df.filter(['clean_title', '6_way_label']).rename(columns={\"clean_title\": \"text\", \"6_way_label\": \"label\"})\n",
    "    df['label_text'] = df['label'].apply(lambda x:label2id[x])\n",
    "    return df"
   ]
  },
  {
   "cell_type": "code",
   "execution_count": 8,
   "metadata": {},
   "outputs": [],
   "source": [
    "mid_train = fillter_data(mid_train)\n",
    "mid_test = fillter_data(mid_test)\n",
    "mid_val = fillter_data(mid_val)"
   ]
  },
  {
   "cell_type": "code",
   "execution_count": 9,
   "metadata": {},
   "outputs": [
    {
     "data": {
      "text/html": [
       "<div>\n",
       "<style scoped>\n",
       "    .dataframe tbody tr th:only-of-type {\n",
       "        vertical-align: middle;\n",
       "    }\n",
       "\n",
       "    .dataframe tbody tr th {\n",
       "        vertical-align: top;\n",
       "    }\n",
       "\n",
       "    .dataframe thead th {\n",
       "        text-align: right;\n",
       "    }\n",
       "</style>\n",
       "<table border=\"1\" class=\"dataframe\">\n",
       "  <thead>\n",
       "    <tr style=\"text-align: right;\">\n",
       "      <th></th>\n",
       "      <th>text</th>\n",
       "      <th>label</th>\n",
       "      <th>label_text</th>\n",
       "    </tr>\n",
       "  </thead>\n",
       "  <tbody>\n",
       "    <tr>\n",
       "      <th>0</th>\n",
       "      <td>my walgreens offbrand mucinex was engraved wit...</td>\n",
       "      <td>0</td>\n",
       "      <td>True</td>\n",
       "    </tr>\n",
       "    <tr>\n",
       "      <th>1</th>\n",
       "      <td>this concerned sink with a tiny hat</td>\n",
       "      <td>2</td>\n",
       "      <td>Misleading Content</td>\n",
       "    </tr>\n",
       "    <tr>\n",
       "      <th>2</th>\n",
       "      <td>hackers leak emails from uae ambassador to us</td>\n",
       "      <td>0</td>\n",
       "      <td>True</td>\n",
       "    </tr>\n",
       "    <tr>\n",
       "      <th>3</th>\n",
       "      <td>puppy taking in the view</td>\n",
       "      <td>0</td>\n",
       "      <td>True</td>\n",
       "    </tr>\n",
       "    <tr>\n",
       "      <th>4</th>\n",
       "      <td>i found a face in my sheet music too</td>\n",
       "      <td>2</td>\n",
       "      <td>Misleading Content</td>\n",
       "    </tr>\n",
       "    <tr>\n",
       "      <th>...</th>\n",
       "      <td>...</td>\n",
       "      <td>...</td>\n",
       "      <td>...</td>\n",
       "    </tr>\n",
       "    <tr>\n",
       "      <th>563608</th>\n",
       "      <td>the sky was dabbing on me today</td>\n",
       "      <td>0</td>\n",
       "      <td>True</td>\n",
       "    </tr>\n",
       "    <tr>\n",
       "      <th>563609</th>\n",
       "      <td>found this guy after moving my shower caddy of...</td>\n",
       "      <td>2</td>\n",
       "      <td>Misleading Content</td>\n",
       "    </tr>\n",
       "    <tr>\n",
       "      <th>563610</th>\n",
       "      <td>a squirrels imprint in wet concrete</td>\n",
       "      <td>0</td>\n",
       "      <td>True</td>\n",
       "    </tr>\n",
       "    <tr>\n",
       "      <th>563611</th>\n",
       "      <td>he keeps an eye on the burner whilst i cook</td>\n",
       "      <td>2</td>\n",
       "      <td>Misleading Content</td>\n",
       "    </tr>\n",
       "    <tr>\n",
       "      <th>563612</th>\n",
       "      <td>mrg</td>\n",
       "      <td>4</td>\n",
       "      <td>False connection</td>\n",
       "    </tr>\n",
       "  </tbody>\n",
       "</table>\n",
       "<p>563613 rows × 3 columns</p>\n",
       "</div>"
      ],
      "text/plain": [
       "                                                     text  label  \\\n",
       "0       my walgreens offbrand mucinex was engraved wit...      0   \n",
       "1                     this concerned sink with a tiny hat      2   \n",
       "2           hackers leak emails from uae ambassador to us      0   \n",
       "3                                puppy taking in the view      0   \n",
       "4                    i found a face in my sheet music too      2   \n",
       "...                                                   ...    ...   \n",
       "563608                    the sky was dabbing on me today      0   \n",
       "563609  found this guy after moving my shower caddy of...      2   \n",
       "563610                a squirrels imprint in wet concrete      0   \n",
       "563611        he keeps an eye on the burner whilst i cook      2   \n",
       "563612                                                mrg      4   \n",
       "\n",
       "                label_text  \n",
       "0                     True  \n",
       "1       Misleading Content  \n",
       "2                     True  \n",
       "3                     True  \n",
       "4       Misleading Content  \n",
       "...                    ...  \n",
       "563608                True  \n",
       "563609  Misleading Content  \n",
       "563610                True  \n",
       "563611  Misleading Content  \n",
       "563612    False connection  \n",
       "\n",
       "[563613 rows x 3 columns]"
      ]
     },
     "execution_count": 9,
     "metadata": {},
     "output_type": "execute_result"
    }
   ],
   "source": [
    "mid_train"
   ]
  },
  {
   "cell_type": "code",
   "execution_count": 10,
   "metadata": {},
   "outputs": [],
   "source": [
    "mid_train.text = mid_train.text.apply(text_preprocessing)\n",
    "mid_test.text = mid_test.text.apply(text_preprocessing)\n",
    "mid_val.text = mid_val.text.apply(text_preprocessing)"
   ]
  },
  {
   "cell_type": "code",
   "execution_count": 11,
   "metadata": {},
   "outputs": [
    {
     "data": {
      "image/png": "[encoded data removed]",
      "text/plain": [
       "<Figure size 432x288 with 1 Axes>"
      ]
     },
     "metadata": {
      "needs_background": "light"
     },
     "output_type": "display_data"
    }
   ],
   "source": [
    "mid_train['label'].value_counts(ascending=True).plot.barh()\n",
    "plt.title(\"Frequency of Classes\")\n",
    "plt.show()"
   ]
  },
  {
   "cell_type": "code",
   "execution_count": 12,
   "metadata": {},
   "outputs": [
    {
     "data": {
      "image/png": "[encoded data removed]",
      "text/plain": [
       "<Figure size 432x288 with 1 Axes>"
      ]
     },
     "metadata": {
      "needs_background": "light"
     },
     "output_type": "display_data"
    }
   ],
   "source": [
    "mid_train['words per sentence'] = mid_train['text'].str.split().apply(len)\n",
    "mid_train.boxplot(\"words per sentence\", by='label', grid=False, showfliers=False, color='black')\n",
    "plt.suptitle(\"\")\n",
    "plt.xlabel(\"\")\n",
    "plt.show()"
   ]
  },
  {
   "cell_type": "code",
   "execution_count": 13,
   "metadata": {},
   "outputs": [
    {
     "name": "stderr",
     "output_type": "stream",
     "text": [
      "Some weights of the model checkpoint at distilbert-base-uncased were not used when initializing DistilBertModel: ['vocab_projector.weight', 'vocab_layer_norm.bias', 'vocab_transform.bias', 'vocab_projector.bias', 'vocab_transform.weight', 'vocab_layer_norm.weight']\n",
      "- This IS expected if you are initializing DistilBertModel from the checkpoint of a model trained on another task or with another architecture (e.g. initializing a BertForSequenceClassification model from a BertForPreTraining model).\n",
      "- This IS NOT expected if you are initializing DistilBertModel from the checkpoint of a model that you expect to be exactly identical (initializing a BertForSequenceClassification model from a BertForSequenceClassification model).\n"
     ]
    }
   ],
   "source": [
    "from transformers import AutoTokenizer, AutoModel\n",
    "\n",
    "model_ckpt = \"distilbert-base-uncased\"\n",
    "# model_ckpt = \"bert-base-uncased\"\n",
    "# model_ckpt = \"roberta-base\"\n",
    "# model_ckpt = \"xlnet-base-cased\"\n",
    "device = torch.device(\"cuda\" if torch.cuda.is_available() else \"cpu\")\n",
    "model = AutoModel.from_pretrained(model_ckpt).to(device)\n",
    "\n",
    "tokenizer = AutoTokenizer.from_pretrained(model_ckpt)"
   ]
  },
  {
   "cell_type": "code",
   "execution_count": 14,
   "metadata": {},
   "outputs": [],
   "source": [
    "def tokenize(text):\n",
    "    return tokenizer(text, truncation=True, padding=\"max_length\", max_length=20)"
   ]
  },
  {
   "cell_type": "code",
   "execution_count": 15,
   "metadata": {},
   "outputs": [],
   "source": [
    "mid_train['text'] = mid_train['text'].apply(tokenize)\n",
    "mid_val['text'] = mid_val['text'].apply(tokenize)\n",
    "mid_test['text'] = mid_test['text'].apply(tokenize)"
   ]
  },
  {
   "cell_type": "code",
   "execution_count": 16,
   "metadata": {},
   "outputs": [],
   "source": [
    "mid_train['input_ids'], mid_train['attention_mask'] = mid_train['text'].apply(lambda x: x['input_ids']), mid_train['text'].apply(lambda x: x['attention_mask'])\n",
    "mid_val['input_ids'], mid_val['attention_mask'] = mid_val['text'].apply(lambda x: x['input_ids']), mid_val['text'].apply(lambda x: x['attention_mask'])\n",
    "mid_test['input_ids'], mid_test['attention_mask'] = mid_test['text'].apply(lambda x: x['input_ids']), mid_test['text'].apply(lambda x: x['attention_mask'])"
   ]
  },
  {
   "cell_type": "code",
   "execution_count": 17,
   "metadata": {},
   "outputs": [],
   "source": [
    "# mid_train = mid_train.filter(['input_ids', 'attention_mask', 'label'])\n",
    "# mid_val = mid_val.filter(['input_ids', 'attention_mask', 'label'])\n",
    "# mid_test = mid_test.filter(['input_ids', 'attention_mask', 'label'])"
   ]
  },
  {
   "cell_type": "code",
   "execution_count": 18,
   "metadata": {},
   "outputs": [],
   "source": [
    "class Mid_dataset(Dataset):\n",
    "    def __init__(self, df):\n",
    "        df.dtype = np.float64\n",
    "        self.input_ids = df['input_ids'].values\n",
    "        self.attention_mask = df['attention_mask'].values\n",
    "        self.label = df['label'].values\n",
    "\n",
    "    def __getitem__(self, idx):\n",
    "        input_ids = torch.Tensor(self.input_ids[idx]).int()\n",
    "        attention_mask = torch.Tensor(self.attention_mask[idx]).int()\n",
    "        label = self.label[idx]\n",
    "        return {\"input_ids\": input_ids, \"attention_mask\": attention_mask, \"label\": label}\n",
    "\n",
    "    def __len__(self):\n",
    "        return len(self.label)"
   ]
  },
  {
   "cell_type": "code",
   "execution_count": 19,
   "metadata": {},
   "outputs": [],
   "source": [
    "def extract_hidden_states(batch):\n",
    "    inputs = {k:v.to(device) for k,v in batch.items() if k in tokenizer.model_input_names}\n",
    "    with torch.no_grad():\n",
    "        last_hidden_state = model(**inputs).last_hidden_state\n",
    "\n",
    "    return {'hidden_state': last_hidden_state[:, 0].cpu().numpy()}"
   ]
  },
  {
   "cell_type": "code",
   "execution_count": 20,
   "metadata": {},
   "outputs": [],
   "source": [
    "batch_size = 64\n",
    "trainset = Mid_dataset(mid_train)\n",
    "train_loader = DataLoader(trainset, batch_size=batch_size)\n",
    "valset = Mid_dataset(mid_val)\n",
    "valid_loader = DataLoader(valset, batch_size=batch_size)\n",
    "testset = Mid_dataset(mid_test)\n",
    "test_loader = DataLoader(testset, batch_size=batch_size)"
   ]
  },
  {
   "cell_type": "code",
   "execution_count": 21,
   "metadata": {},
   "outputs": [],
   "source": [
    "# Extract hidden states using pre_trained model\n",
    "# for item in tqdm(train_loader, total=len(train_loader)):\n",
    "#     extract_hidden_states(item)"
   ]
  },
  {
   "cell_type": "code",
   "execution_count": 22,
   "metadata": {},
   "outputs": [],
   "source": [
    "from sklearn.metrics import accuracy_score, f1_score, ConfusionMatrixDisplay, confusion_matrix\n",
    "\n",
    "def compute_metrics(pred):\n",
    "    labels = pred.label_ids\n",
    "    preds = pred.predictions.argmax(-1)\n",
    "    f1 = f1_score(labels, preds, average=\"weighted\")\n",
    "    acc = accuracy_score(labels, preds)\n",
    "    return {\"accuracy\": acc, \"f1\": f1}\n",
    "\n",
    "\n",
    "def plot_confusion_matrix(y_preds, y_true):\n",
    "    cm = confusion_matrix(y_true, y_preds, normalize=\"true\")\n",
    "    fig, ax = plt.subplots(figsize=(6, 6))\n",
    "    disp = ConfusionMatrixDisplay(confusion_matrix=cm)\n",
    "    disp.plot(cmap=\"Blues\", values_format=\".2f\", ax=ax, colorbar=False)\n",
    "    plt.title(\"Normalized confusion matrix\")\n",
    "    plt.show()"
   ]
  },
  {
   "cell_type": "code",
   "execution_count": 23,
   "metadata": {},
   "outputs": [
    {
     "name": "stderr",
     "output_type": "stream",
     "text": [
      "Some weights of the model checkpoint at distilbert-base-uncased were not used when initializing DistilBertForSequenceClassification: ['vocab_projector.weight', 'vocab_layer_norm.bias', 'vocab_transform.bias', 'vocab_projector.bias', 'vocab_transform.weight', 'vocab_layer_norm.weight']\n",
      "- This IS expected if you are initializing DistilBertForSequenceClassification from the checkpoint of a model trained on another task or with another architecture (e.g. initializing a BertForSequenceClassification model from a BertForPreTraining model).\n",
      "- This IS NOT expected if you are initializing DistilBertForSequenceClassification from the checkpoint of a model that you expect to be exactly identical (initializing a BertForSequenceClassification model from a BertForSequenceClassification model).\n",
      "Some weights of DistilBertForSequenceClassification were not initialized from the model checkpoint at distilbert-base-uncased and are newly initialized: ['pre_classifier.bias', 'classifier.bias', 'classifier.weight', 'pre_classifier.weight']\n",
      "You should probably TRAIN this model on a down-stream task to be able to use it for predictions and inference.\n"
     ]
    }
   ],
   "source": [
    "from transformers import AutoModelForSequenceClassification\n",
    "\n",
    "num_labels = 6\n",
    "model = (AutoModelForSequenceClassification\n",
    "         .from_pretrained(model_ckpt, num_labels=num_labels)\n",
    "         .to(device))\n",
    "\n",
    "from transformers import Trainer, TrainingArguments\n",
    "\n",
    "logging_steps = len(trainset) // batch_size\n",
    "model_name = \"text-distilbert-finetuned-emotion\"\n",
    "training_args = TrainingArguments(\n",
    "    output_dir=model_name,\n",
    "    num_train_epochs=2,\n",
    "    learning_rate=2e-5,\n",
    "    per_gpu_train_batch_size=batch_size,\n",
    "    per_gpu_eval_batch_size=batch_size,\n",
    "    weight_decay=0.01,\n",
    "    evaluation_strategy=\"epoch\",\n",
    "    disable_tqdm=False,\n",
    "    logging_steps=logging_steps,\n",
    "    log_level='error'\n",
    ")"
   ]
  },
  {
   "cell_type": "code",
   "execution_count": 24,
   "metadata": {},
   "outputs": [
    {
     "name": "stderr",
     "output_type": "stream",
     "text": [
      "/home/yangu/miniconda3/envs/th_env/lib/python3.10/site-packages/transformers/optimization.py:306: FutureWarning: This implementation of AdamW is deprecated and will be removed in a future version. Use the PyTorch implementation torch.optim.AdamW instead, or set `no_deprecation_warning=True` to disable this warning\n",
      "  warnings.warn(\n"
     ]
    },
    {
     "data": {
      "text/html": [
       "\n",
       "    <div>\n",
       "      \n",
       "      <progress value='17614' max='17614' style='width:300px; height:20px; vertical-align: middle;'></progress>\n",
       "      [17614/17614 20:54, Epoch 2/2]\n",
       "    </div>\n",
       "    <table border=\"1\" class=\"dataframe\">\n",
       "  <thead>\n",
       " <tr style=\"text-align: left;\">\n",
       "      <th>Epoch</th>\n",
       "      <th>Training Loss</th>\n",
       "      <th>Validation Loss</th>\n",
       "      <th>Accuracy</th>\n",
       "      <th>F1</th>\n",
       "    </tr>\n",
       "  </thead>\n",
       "  <tbody>\n",
       "    <tr>\n",
       "      <td>1</td>\n",
       "      <td>0.637800</td>\n",
       "      <td>0.550610</td>\n",
       "      <td>0.803673</td>\n",
       "      <td>0.797803</td>\n",
       "    </tr>\n",
       "    <tr>\n",
       "      <td>2</td>\n",
       "      <td>0.486200</td>\n",
       "      <td>0.536525</td>\n",
       "      <td>0.812358</td>\n",
       "      <td>0.808387</td>\n",
       "    </tr>\n",
       "  </tbody>\n",
       "</table><p>"
      ],
      "text/plain": [
       "<IPython.core.display.HTML object>"
      ]
     },
     "metadata": {},
     "output_type": "display_data"
    },
    {
     "data": {
      "text/plain": [
       "TrainOutput(global_step=17614, training_loss=0.5619933707388952, metrics={'train_runtime': 1254.9308, 'train_samples_per_second': 898.238, 'train_steps_per_second': 14.036, 'total_flos': 5833255765934880.0, 'train_loss': 0.5619933707388952, 'epoch': 2.0})"
      ]
     },
     "execution_count": 24,
     "metadata": {},
     "output_type": "execute_result"
    }
   ],
   "source": [
    "trainer = Trainer(\n",
    "    model=model,\n",
    "    args=training_args,\n",
    "    compute_metrics=compute_metrics,\n",
    "    train_dataset=trainset,\n",
    "    eval_dataset=valset,\n",
    "    tokenizer=tokenizer\n",
    ")\n",
    "trainer.train()"
   ]
  },
  {
   "cell_type": "code",
   "execution_count": 25,
   "metadata": {},
   "outputs": [
    {
     "data": {
      "text/html": [
       "\n",
       "    <div>\n",
       "      \n",
       "      <progress value='927' max='927' style='width:300px; height:20px; vertical-align: middle;'></progress>\n",
       "      [927/927 00:15]\n",
       "    </div>\n",
       "    "
      ],
      "text/plain": [
       "<IPython.core.display.HTML object>"
      ]
     },
     "metadata": {},
     "output_type": "display_data"
    }
   ],
   "source": [
    "preds_output = trainer.predict(testset)"
   ]
  },
  {
   "cell_type": "code",
   "execution_count": 26,
   "metadata": {},
   "outputs": [
    {
     "data": {
      "text/plain": [
       "{'test_loss': 0.5311818718910217,\n",
       " 'test_accuracy': 0.8133994702299607,\n",
       " 'test_f1': 0.8099495941106034,\n",
       " 'test_runtime': 15.5277,\n",
       " 'test_samples_per_second': 3817.108,\n",
       " 'test_steps_per_second': 59.7}"
      ]
     },
     "execution_count": 26,
     "metadata": {},
     "output_type": "execute_result"
    }
   ],
   "source": [
    "preds_output.metrics"
   ]
  },
  {
   "cell_type": "code",
   "execution_count": 28,
   "metadata": {},
   "outputs": [],
   "source": [
    "y_preds = np.argmax(preds_output.predictions, axis=1)\n",
    "y_valid = np.array(mid_test['label'])"
   ]
  },
  {
   "cell_type": "code",
   "execution_count": 29,
   "metadata": {},
   "outputs": [
    {
     "data": {
      "image/png": "[encoded data removed]",
      "text/plain": [
       "<Figure size 432x432 with 1 Axes>"
      ]
     },
     "metadata": {
      "needs_background": "light"
     },
     "output_type": "display_data"
    }
   ],
   "source": [
    "plot_confusion_matrix(y_preds, y_valid)"
   ]
  },
  {
   "cell_type": "code",
   "execution_count": null,
   "metadata": {},
   "outputs": [],
   "source": [
    "# Model 2\n",
    "class MidClassifier(nn.Module):\n",
    "    def __init__(self, finetune=True):\n",
    "        super().__init__()\n",
    "        self.input_dim, self.hidden, self.output_dim = 768, 50, 6\n",
    "        self.pretrained = AutoModel.from_pretrained(model_ckpt)\n",
    "\n",
    "        self.classifier = nn.Sequential(\n",
    "            nn.Linear(self.input_dim, self.hidden),\n",
    "            nn.ReLU(),\n",
    "            nn.Linear(self.hidden, self.output_dim)\n",
    "        )\n",
    "\n",
    "        if not finetune:\n",
    "            for param in self.pretrained.parameters():\n",
    "                param.requires_grad = False\n",
    "\n",
    "    def forward(self, x):\n",
    "        output = self.pretrained(x)\n",
    "        # return the last hidden state of pretrained model\n",
    "        last_hidden_state = output.last_hiddent_state[:, 0]\n",
    "        logits = self.classifier(last_hidden_state)\n",
    "        return logits\n"
   ]
  },
  {
   "cell_type": "code",
   "execution_count": null,
   "metadata": {},
   "outputs": [],
   "source": [
    "def train(model, train_loader, val_loader, epochs=4, evaluation=True):\n",
    "    optimizer = torch.optim.Adam(model.parameters(), lr=2e-5, eps=1e-8)\n",
    "    loss_fn = nn.CrossEntropyLoss()\n",
    "    for epoch in range(epochs):\n",
    "        model.train()\n",
    "        loss_total = 0\n",
    "        for step, batch in enumerate(train_loader):\n",
    "            i_input_ids, i_attention_masks, i_labels = tuple(t.to(device) for t in batch)\n",
    "            model.zero_grad()\n",
    "            logits = model(i_input_ids, i_attention_masks)\n",
    "\n",
    "            loss = loss_fn(logits, i_labels)\n",
    "\n",
    "            loss.backward()\n",
    "            optimizer.step()\n",
    "\n",
    "            # evaluation for each batch\n",
    "            ...\n"
   ]
  },
  {
   "cell_type": "code",
   "execution_count": null,
   "metadata": {},
   "outputs": [],
   "source": [
    "def evaluation():\n",
    "    ..."
   ]
  },
  {
   "cell_type": "code",
   "execution_count": 33,
   "metadata": {},
   "outputs": [],
   "source": [
    "torch.cuda.empty_cache()\n",
    "del Mid_dataset"
   ]
  },
  {
   "cell_type": "code",
   "execution_count": null,
   "metadata": {},
   "outputs": [],
   "source": []
  }
 ],
 "metadata": {
  "kernelspec": {
   "display_name": "Python 3.10.4 ('th_env')",
   "language": "python",
   "name": "python3"
  },
  "language_info": {
   "codemirror_mode": {
    "name": "ipython",
    "version": 3
   },
   "file_extension": ".py",
   "mimetype": "text/x-python",
   "name": "python",
   "nbconvert_exporter": "python",
   "pygments_lexer": "ipython3",
   "version": "3.10.4"
  },
  "orig_nbformat": 4,
  "vscode": {
   "interpreter": {
    "hash": "9195b6298d6a7344dfdd9b7dd22369761981621f82b452f68b5e000f5e42045d"
   }
  }
 },
 "nbformat": 4,
 "nbformat_minor": 2
}
